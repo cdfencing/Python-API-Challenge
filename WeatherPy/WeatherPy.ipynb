{
 "cells": [
  {
   "cell_type": "markdown",
   "metadata": {},
   "source": [
    "# WeatherPy\n"
   ]
  },
  {
   "cell_type": "markdown",
   "metadata": {},
   "source": [
    "# Data Analysis:\n",
    "\n",
    "1) From the initial scatter plots, it is noticeable that there is a lot of discrepancy in all the categories measured. In all of the plots there is a large range in the data points comparing the different measureables of each city location. This is understandable as different cities will have different temperatures, cloudiness, humidity and wind speed depending on the location. Furthermore, measuring the data on one day alone instead of over time could contribute to higher variance in the data.\n",
    "\n",
    "2) It is observable from the data and plots that most of the regressions explain little of the variance in the data. This is understandable as cloudiness, wind speed, temperature, and humidity all vary from day to day, seasonally, and climate to climate. In order to have regressions that explain more of the variance, more data points would be neccessary measuring all these factors over more than just one day.\n",
    "\n",
    "3) The max temperature vs city latitude, both for the northern and southern hemispheres were the scatter plots with the best fitting regressions. This understandable as temperatures do vary during the time of day and from day to day, however, there is a general trend of temperatures in relation to latitude. Generally, the closer to the equator a city is, the temperature tends to be higher and the further the city is from the equator, the temperature tends to be lower. So while there is variance in this data set, this relationship has the strongest correlation of those measured.\n"
   ]
  },
  {
   "cell_type": "code",
   "execution_count": 28,
   "metadata": {
    "scrolled": true
   },
   "outputs": [],
   "source": [
    "# Dependencies and Setup\n",
    "import matplotlib.pyplot as plt\n",
    "import pandas as pd\n",
    "import numpy as np\n",
    "import requests\n",
    "import time\n",
    "import scipy.stats as st\n",
    "from scipy.stats import linregress\n",
    "\n",
    "# Import API key\n",
    "from api_keys import weather_api_key\n",
    "\n",
    "# Incorporated citipy to determine city based on latitude and longitude\n",
    "from citipy import citipy\n",
    "\n",
    "# Output File (CSV)\n",
    "output_data_file = \"output_data/cities.csv\"\n",
    "\n",
    "# Range of latitudes and longitudes\n",
    "lat_range = (-90, 90)\n",
    "lng_range = (-180, 180)"
   ]
  },
  {
   "cell_type": "markdown",
   "metadata": {},
   "source": [
    "## Generate Cities List"
   ]
  },
  {
   "cell_type": "code",
   "execution_count": 29,
   "metadata": {},
   "outputs": [
    {
     "data": {
      "text/plain": [
       "602"
      ]
     },
     "execution_count": 29,
     "metadata": {},
     "output_type": "execute_result"
    }
   ],
   "source": [
    "# List for holding lat_lngs and cities\n",
    "lat_lngs = []\n",
    "cities = []\n",
    "\n",
    "# Create a set of random lat and lng combinations\n",
    "lats = np.random.uniform(lat_range[0], lat_range[1], size=1500)\n",
    "lngs = np.random.uniform(lng_range[0], lng_range[1], size=1500)\n",
    "lat_lngs = zip(lats, lngs)\n",
    "\n",
    "# Identify nearest city for each lat, lng combination\n",
    "for lat_lng in lat_lngs:\n",
    "    city = citipy.nearest_city(lat_lng[0], lat_lng[1]).city_name\n",
    "    \n",
    "    # If the city is unique, then add it to a our cities list\n",
    "    if city not in cities:\n",
    "        cities.append(city)\n",
    "\n",
    "# Print the city count to confirm sufficient count\n",
    "len(cities)"
   ]
  },
  {
   "cell_type": "markdown",
   "metadata": {},
   "source": [
    "### Perform API Calls\n",
    "* Perform a weather check on each city using a series of successive API calls.\n",
    "* Include a print log of each city as it'sbeing processed, skip cities not found\n"
   ]
  },
  {
   "cell_type": "code",
   "execution_count": 30,
   "metadata": {},
   "outputs": [
    {
     "data": {
      "text/plain": [
       "'http://api.openweathermap.org/data/2.5/weather?appid=9d88a4e32284086ca01a89386c890bf8'"
      ]
     },
     "execution_count": 30,
     "metadata": {},
     "output_type": "execute_result"
    }
   ],
   "source": [
    "# Save config information\n",
    "url = \"http://api.openweathermap.org/data/2.5/weather?\"\n",
    "\n",
    "# Build query URL\n",
    "query_url = url + \"appid=\" + weather_api_key \n",
    "query_url"
   ]
  },
  {
   "cell_type": "code",
   "execution_count": 31,
   "metadata": {},
   "outputs": [
    {
     "name": "stdout",
     "output_type": "stream",
     "text": [
      "Beginning Data Retrieval: \n",
      "\n",
      "------------------------\n",
      "\n",
      "Processing Record 1 | Bantry\n",
      "Processing Record 2 | Geraldton\n",
      "Processing Record 3 | Bilibino\n",
      "Processing Record 4 | Belinsky\n",
      "Processing Record 5 | Druzhba\n",
      "Processing Record 6 | Hearst\n",
      "Processing Record 7 | Port Alfred\n",
      "Processing Record 8 | Busselton\n",
      "Processing Record 9 | Chokurdakh\n",
      "Processing Record 10 | Craig\n",
      "Processing Record 11 | Nālūt\n",
      "Processing Record 12 | Sovetsk\n",
      "Processing Record 13 | Henties Bay\n",
      "Processing Record 14 | Upernavik\n",
      "Processing Record 15 | Ahipara\n",
      "Processing Record 16 | Marsh Harbour\n",
      "City not found. Skipping...\n",
      "Processing Record 18 | Khandyga\n",
      "Processing Record 19 | Pisco\n",
      "Processing Record 20 | Mataura\n",
      "Processing Record 21 | Cape Town\n",
      "Processing Record 22 | Jacksonville\n",
      "Processing Record 23 | Qaqortoq\n",
      "Processing Record 24 | Tuktoyaktuk\n",
      "Processing Record 25 | Atuona\n",
      "Processing Record 26 | Itarema\n",
      "Processing Record 27 | Aktau\n",
      "Processing Record 28 | Rikitea\n",
      "Processing Record 29 | Margate\n",
      "Processing Record 30 | Hermanus\n",
      "Processing Record 31 | Kieta\n",
      "Processing Record 32 | Weatherford\n",
      "Processing Record 33 | Fortuna\n",
      "Processing Record 34 | Vaini\n",
      "City not found. Skipping...\n",
      "Processing Record 36 | Lagoa\n",
      "Processing Record 37 | Baharly\n",
      "Processing Record 38 | Hambantota\n",
      "Processing Record 39 | Hanyang\n",
      "Processing Record 40 | Thunder Bay\n",
      "Processing Record 41 | Katsuura\n",
      "Processing Record 42 | Novoagansk\n",
      "Processing Record 43 | Ushuaia\n",
      "Processing Record 44 | Sungai Penuh\n",
      "Processing Record 45 | Qaanaaq\n",
      "Processing Record 46 | Yellowknife\n",
      "Processing Record 47 | Vao\n",
      "City not found. Skipping...\n",
      "Processing Record 49 | Punta Arenas\n",
      "Processing Record 50 | Rundu\n",
      "Processing Record 51 | Bredasdorp\n",
      "Processing Record 52 | Ribeira Grande\n",
      "Processing Record 53 | Bluff\n",
      "Processing Record 54 | Valdivia\n",
      "City not found. Skipping...\n",
      "Processing Record 56 | La Ronge\n",
      "Processing Record 57 | Clayton\n",
      "Processing Record 58 | Dikson\n",
      "Processing Record 59 | Ukiah\n",
      "Processing Record 60 | Esperance\n",
      "Processing Record 61 | Kahului\n",
      "City not found. Skipping...\n",
      "Processing Record 63 | Isangel\n",
      "Processing Record 64 | Hasaki\n",
      "Processing Record 65 | Mikuni\n",
      "Processing Record 66 | Tuatapere\n",
      "Processing Record 67 | Fort Nelson\n",
      "Processing Record 68 | Albany\n",
      "Processing Record 69 | Saint George\n",
      "Processing Record 70 | Lata\n",
      "Processing Record 71 | Bar Harbor\n",
      "Processing Record 72 | Jamestown\n",
      "Processing Record 73 | Hilo\n",
      "Processing Record 74 | Kavaratti\n",
      "Processing Record 75 | Castro\n",
      "Processing Record 76 | Yumen\n",
      "Processing Record 77 | Whitianga\n",
      "Processing Record 78 | Torbay\n",
      "Processing Record 79 | Hofn\n",
      "Processing Record 80 | San Cristobal\n",
      "Processing Record 81 | Ismailia\n",
      "Processing Record 82 | Avarua\n",
      "Processing Record 83 | Saskylakh\n",
      "Processing Record 84 | Cidreira\n",
      "Processing Record 85 | Antalaha\n",
      "Processing Record 86 | Polson\n",
      "Processing Record 87 | Narsaq\n",
      "Processing Record 88 | Östersund\n",
      "Processing Record 89 | Coquimbo\n",
      "Processing Record 90 | Kajaani\n",
      "Processing Record 91 | Mehrān\n",
      "Processing Record 92 | Beisfjord\n",
      "Processing Record 93 | Honiara\n",
      "Processing Record 94 | Esim\n",
      "Processing Record 95 | Innisfail\n",
      "Processing Record 96 | Tianpeng\n",
      "Processing Record 97 | Harper\n",
      "Processing Record 98 | Lompoc\n",
      "Processing Record 99 | Mount Isa\n",
      "Processing Record 100 | Opuwo\n",
      "Processing Record 101 | Sesheke\n",
      "Processing Record 102 | Togur\n",
      "City not found. Skipping...\n",
      "Processing Record 104 | Les Escoumins\n",
      "Processing Record 105 | East London\n",
      "City not found. Skipping...\n",
      "Processing Record 107 | Gävle\n",
      "Processing Record 108 | Arraial do Cabo\n",
      "Processing Record 109 | Khāsh\n",
      "Processing Record 110 | Mount Gambier\n",
      "Processing Record 111 | Barrow\n",
      "Processing Record 112 | Port Blair\n",
      "Processing Record 113 | Karasjok\n",
      "Processing Record 114 | Airai\n",
      "Processing Record 115 | Vanderhoof\n",
      "Processing Record 116 | Tabuk\n",
      "Processing Record 117 | Nadym\n",
      "Processing Record 118 | Tumwater\n",
      "Processing Record 119 | Khatanga\n",
      "Processing Record 120 | Caravelas\n",
      "Processing Record 121 | Nome\n",
      "Processing Record 122 | Makakilo City\n",
      "Processing Record 123 | Kaitangata\n",
      "City not found. Skipping...\n",
      "Processing Record 125 | Bambous Virieux\n",
      "Processing Record 126 | Puerto Ayora\n",
      "Processing Record 127 | Meulaboh\n",
      "Processing Record 128 | Vestmannaeyjar\n",
      "Processing Record 129 | Hithadhoo\n",
      "Processing Record 130 | Vanimo\n",
      "Processing Record 131 | Carnarvon\n",
      "City not found. Skipping...\n",
      "Processing Record 133 | Anloga\n",
      "Processing Record 134 | George Town\n",
      "Processing Record 135 | Rawson\n",
      "Processing Record 136 | Gisborne\n",
      "Processing Record 137 | Mangan\n",
      "Processing Record 138 | Pevek\n",
      "City not found. Skipping...\n",
      "City not found. Skipping...\n",
      "City not found. Skipping...\n",
      "City not found. Skipping...\n",
      "Processing Record 143 | Tiksi\n",
      "Processing Record 144 | Bonthe\n",
      "Processing Record 145 | Mahébourg\n",
      "Processing Record 146 | San Juan\n",
      "Processing Record 147 | Udachny\n",
      "Processing Record 148 | Bereda\n",
      "Processing Record 149 | Gambissara\n",
      "Processing Record 150 | Vila Franca do Campo\n",
      "Processing Record 151 | Zhangjiakou\n",
      "Processing Record 152 | Palo Alto\n",
      "Processing Record 153 | Hobart\n",
      "Processing Record 154 | Den Helder\n",
      "Processing Record 155 | Klaksvík\n",
      "Processing Record 156 | Puerto Escondido\n",
      "Processing Record 157 | Lüderitz\n",
      "Processing Record 158 | Butaritari\n",
      "City not found. Skipping...\n",
      "Processing Record 160 | Marrakesh\n",
      "Processing Record 161 | Nikolskoye\n",
      "Processing Record 162 | Grand Gaube\n",
      "Processing Record 163 | Calvinia\n",
      "Processing Record 164 | Demirci\n",
      "Processing Record 165 | Al Bardīyah\n",
      "Processing Record 166 | São Cristóvão\n",
      "Processing Record 167 | Ancud\n",
      "Processing Record 168 | Thompson\n",
      "Processing Record 169 | Liku\n",
      "Processing Record 170 | Jilin\n",
      "Processing Record 171 | Kavieng\n",
      "Processing Record 172 | Palmer\n",
      "City not found. Skipping...\n",
      "Processing Record 174 | Tsumeb\n",
      "Processing Record 175 | Gulābpura\n",
      "Processing Record 176 | Kushima\n",
      "Processing Record 177 | Haines Junction\n",
      "Processing Record 178 | Ilulissat\n",
      "Processing Record 179 | Port Elizabeth\n",
      "Processing Record 180 | Okhotsk\n",
      "Processing Record 181 | Koshurnikovo\n",
      "Processing Record 182 | New Norfolk\n",
      "Processing Record 183 | Karachi\n",
      "Processing Record 184 | Yambio\n",
      "Processing Record 185 | Mudanjiang\n",
      "Processing Record 186 | Aklavik\n",
      "Processing Record 187 | Tocopilla\n",
      "Processing Record 188 | São João da Barra\n",
      "Processing Record 189 | Sechura\n",
      "Processing Record 190 | Shima\n",
      "Processing Record 191 | Saint-Joseph\n",
      "Processing Record 192 | El Batey\n",
      "Processing Record 193 | Cherskiy\n",
      "City not found. Skipping...\n",
      "Processing Record 195 | Saint Anthony\n",
      "Processing Record 196 | Quatre Cocos\n",
      "Processing Record 197 | Hong Kong\n",
      "Processing Record 198 | Chui\n",
      "Processing Record 199 | Saint-Leu\n",
      "Processing Record 200 | Leh\n",
      "Processing Record 201 | Flinders\n",
      "Processing Record 202 | Simbahan\n",
      "Processing Record 203 | Ararat\n",
      "Processing Record 204 | Yangi Marg`ilon\n",
      "Processing Record 205 | Amarpur\n",
      "Processing Record 206 | Sitka\n",
      "Processing Record 207 | Garoowe\n",
      "City not found. Skipping...\n",
      "Processing Record 209 | Bethel\n",
      "Processing Record 210 | Bosaso\n",
      "Processing Record 211 | Port Lincoln\n",
      "Processing Record 212 | Kyzyl\n",
      "Processing Record 213 | Huangcun\n",
      "Processing Record 214 | Salalah\n",
      "City not found. Skipping...\n",
      "Processing Record 216 | Turukhansk\n",
      "Processing Record 217 | Severo-Kuril'sk\n",
      "Processing Record 218 | Miragoâne\n",
      "Processing Record 219 | Pandan\n",
      "Processing Record 220 | Lyngdal\n",
      "Processing Record 221 | Saint-Pierre\n",
      "Processing Record 222 | Sioux Lookout\n",
      "Processing Record 223 | Kashgar\n",
      "Processing Record 224 | Sibolga\n",
      "Processing Record 225 | Inírida\n",
      "Processing Record 226 | Kingaroy\n",
      "Processing Record 227 | Tselina\n",
      "City not found. Skipping...\n",
      "Processing Record 229 | Ixtapa\n",
      "Processing Record 230 | Sisimiut\n",
      "Processing Record 231 | Kruisfontein\n",
      "Processing Record 232 | Faanui\n",
      "Processing Record 233 | Bengkulu\n",
      "Processing Record 234 | Tasiilaq\n",
      "City not found. Skipping...\n",
      "City not found. Skipping...\n",
      "Processing Record 237 | Codrington\n",
      "Processing Record 238 | Kapaa\n",
      "Processing Record 239 | Concordia\n",
      "City not found. Skipping...\n",
      "Processing Record 241 | Tadine\n",
      "Processing Record 242 | San Vicente\n",
      "Processing Record 243 | Husavik\n",
      "Processing Record 244 | Satānā\n",
      "Processing Record 245 | Lebu\n",
      "City not found. Skipping...\n",
      "Processing Record 247 | Taltal\n",
      "Processing Record 248 | Sistranda\n",
      "Processing Record 249 | Tilichiki\n",
      "Processing Record 250 | Birobidzhan\n",
      "Processing Record 251 | Ciudad Bolivar\n",
      "Processing Record 252 | Vila Velha\n",
      "Processing Record 253 | Leningradskiy\n",
      "Processing Record 254 | Itaituba\n",
      "Processing Record 255 | The Valley\n",
      "Processing Record 256 | Trinitapoli\n",
      "Processing Record 257 | Syracuse\n",
      "Processing Record 258 | Shimoda\n",
      "Processing Record 259 | Paratinga\n",
      "Processing Record 260 | Kitimat\n",
      "Processing Record 261 | Fort Morgan\n",
      "Processing Record 262 | Saint-Philippe\n",
      "Processing Record 263 | Laas\n",
      "Processing Record 264 | Topolovgrad\n",
      "Processing Record 265 | San Patricio\n",
      "Processing Record 266 | Turka\n",
      "Processing Record 267 | Saint Paul Harbor\n",
      "Processing Record 268 | Dunedin\n",
      "Processing Record 269 | Saint Andrews\n",
      "Processing Record 270 | Saint-Augustin\n",
      "Processing Record 271 | Malakal\n",
      "City not found. Skipping...\n",
      "Processing Record 273 | Atbasar\n",
      "Processing Record 274 | Kalabo\n",
      "Processing Record 275 | Quelimane\n",
      "Processing Record 276 | Beloha\n",
      "Processing Record 277 | Moussoro\n",
      "Processing Record 278 | Khovd\n",
      "Processing Record 279 | Mossamedes\n",
      "Processing Record 280 | Malaryta\n",
      "Processing Record 281 | Iqaluit\n",
      "Processing Record 282 | Santa Cruz de la Sierra\n",
      "City not found. Skipping...\n",
      "Processing Record 284 | Kismayo\n",
      "Processing Record 285 | Tokonou\n",
      "Processing Record 286 | Iquitos\n",
      "Processing Record 287 | Kamenka\n",
      "Processing Record 288 | Mansehra\n",
      "Processing Record 289 | Guilin\n",
      "Processing Record 290 | Khorramshahr\n",
      "Processing Record 291 | Waliso\n",
      "Processing Record 292 | Souillac\n",
      "Processing Record 293 | Dogondoutchi\n",
      "Processing Record 294 | Cabo San Lucas\n",
      "Processing Record 295 | Srīvardhan\n",
      "Processing Record 296 | Yantzaza\n",
      "Processing Record 297 | Bathsheba\n",
      "Processing Record 298 | Nizhniy Ingash\n",
      "Processing Record 299 | Pavlivka\n",
      "Processing Record 300 | Norman Wells\n",
      "Processing Record 301 | Nanortalik\n",
      "City not found. Skipping...\n",
      "Processing Record 303 | Tautira\n",
      "Processing Record 304 | Kulhudhuffushi\n",
      "Processing Record 305 | Zonguldak\n",
      "Processing Record 306 | Camacha\n",
      "Processing Record 307 | Alofi\n",
      "Processing Record 308 | Oranjemund\n",
      "Processing Record 309 | Olafsvik\n",
      "Processing Record 310 | Diu\n",
      "Processing Record 311 | Rosarito\n",
      "Processing Record 312 | Ormara\n",
      "City not found. Skipping...\n",
      "City not found. Skipping...\n",
      "Processing Record 315 | Barabash\n",
      "Processing Record 316 | Hamilton\n",
      "Processing Record 317 | Makkah al Mukarramah\n",
      "Processing Record 318 | Boyolangu\n",
      "Processing Record 319 | Mayumba\n",
      "Processing Record 320 | Hay River\n",
      "Processing Record 321 | Takahashi\n",
      "Processing Record 322 | Guerrero Negro\n",
      "Processing Record 323 | Maun\n",
      "Processing Record 324 | Muhos\n",
      "Processing Record 325 | Nichinan\n",
      "Processing Record 326 | Sibu\n",
      "Processing Record 327 | Vangaindrano\n",
      "Processing Record 328 | Skibbereen\n",
      "Processing Record 329 | Ordzhonīkīdze\n",
      "Processing Record 330 | Los Llanos de Aridane\n",
      "Processing Record 331 | Baykit\n",
      "Processing Record 332 | Necochea\n",
      "Processing Record 333 | Aswān\n",
      "Processing Record 334 | Zelenets\n",
      "Processing Record 335 | Broken Hill\n",
      "Processing Record 336 | Mubi\n",
      "Processing Record 337 | Muros\n",
      "Processing Record 338 | Anito\n",
      "Processing Record 339 | Port Moresby\n",
      "Processing Record 340 | Adrar\n",
      "City not found. Skipping...\n",
      "Processing Record 342 | Cotonou\n",
      "City not found. Skipping...\n",
      "Processing Record 344 | Khipro\n",
      "City not found. Skipping...\n",
      "Processing Record 346 | Tall Kayf\n",
      "Processing Record 347 | Aksarka\n",
      "Processing Record 348 | Amahai\n",
      "Processing Record 349 | Kiama\n",
      "Processing Record 350 | Pemangkat\n",
      "Processing Record 351 | Yichun\n",
      "Processing Record 352 | Kolpny\n",
      "Processing Record 353 | Putai\n",
      "Processing Record 354 | Vostok\n",
      "Processing Record 355 | Elk Grove\n",
      "City not found. Skipping...\n",
      "Processing Record 357 | Tabas\n",
      "City not found. Skipping...\n",
      "Processing Record 359 | San Andrés\n",
      "City not found. Skipping...\n",
      "Processing Record 361 | Gallup\n",
      "Processing Record 362 | Labuhan\n",
      "Processing Record 363 | Pangnirtung\n",
      "Processing Record 364 | Tilik\n",
      "Processing Record 365 | Cumana\n",
      "Processing Record 366 | Verāval\n",
      "Processing Record 367 | Agüimes\n",
      "Processing Record 368 | Muswellbrook\n",
      "Processing Record 369 | Nova Olímpia\n",
      "Processing Record 370 | West Odessa\n",
      "Processing Record 371 | Wolfsburg\n",
      "Processing Record 372 | Satwās\n",
      "Processing Record 373 | Aberdeen\n",
      "Processing Record 374 | Amapá\n",
      "Processing Record 375 | Tokur\n",
      "Processing Record 376 | Kutum\n",
      "Processing Record 377 | Pucallpa\n",
      "Processing Record 378 | Nabire\n",
      "Processing Record 379 | Kloulklubed\n",
      "Processing Record 380 | Bethalto\n",
      "Processing Record 381 | Longyearbyen\n",
      "City not found. Skipping...\n",
      "Processing Record 383 | Namtsy\n",
      "Processing Record 384 | Bilma\n",
      "Processing Record 385 | Cap Malheureux\n",
      "Processing Record 386 | Pundaguitan\n",
      "Processing Record 387 | Abu Samrah\n",
      "Processing Record 388 | Malindi\n",
      "Processing Record 389 | Beringovskiy\n",
      "Processing Record 390 | Wajir\n",
      "Processing Record 391 | Cayenne\n",
      "Processing Record 392 | Denpasar\n",
      "Processing Record 393 | Tanete\n",
      "Processing Record 394 | Abhā\n",
      "Processing Record 395 | Coro\n",
      "Processing Record 396 | Maniitsoq\n",
      "Processing Record 397 | Pilar\n",
      "City not found. Skipping...\n",
      "Processing Record 399 | Omsukchan\n",
      "Processing Record 400 | Nampula\n",
      "Processing Record 401 | Champerico\n",
      "Processing Record 402 | La Cruz\n",
      "Processing Record 403 | Skierniewice\n",
      "Processing Record 404 | Sayyan\n",
      "Processing Record 405 | Maningrida\n",
      "City not found. Skipping...\n",
      "Processing Record 407 | Fairbanks\n",
      "Processing Record 408 | Mabama\n",
      "Processing Record 409 | Kedrovoye\n",
      "Processing Record 410 | Arlit\n",
      "Processing Record 411 | Touros\n",
      "Processing Record 412 | Egvekinot\n",
      "Processing Record 413 | Lavrentiya\n",
      "Processing Record 414 | Fuerte Olimpo\n",
      "Processing Record 415 | Constitución\n",
      "Processing Record 416 | Ruteng\n",
      "City not found. Skipping...\n",
      "City not found. Skipping...\n",
      "City not found. Skipping...\n",
      "Processing Record 420 | Arroyos y Esteros\n",
      "Processing Record 421 | Paamiut\n",
      "Processing Record 422 | Provideniya\n",
      "Processing Record 423 | Zhifang\n",
      "Processing Record 424 | Amboasary\n",
      "Processing Record 425 | Nuuk\n",
      "Processing Record 426 | Lagos\n",
      "Processing Record 427 | Belyy Yar\n",
      "Processing Record 428 | Jiangyou\n",
      "Processing Record 429 | Kyra\n",
      "Processing Record 430 | Ngawi\n",
      "Processing Record 431 | Namatanai\n",
      "Processing Record 432 | Chara\n",
      "Processing Record 433 | Bow Island\n",
      "City not found. Skipping...\n",
      "Processing Record 435 | Ozark\n",
      "Processing Record 436 | Bulolo\n",
      "Processing Record 437 | San Quintín\n",
      "Processing Record 438 | Sri Aman\n",
      "Processing Record 439 | Arcata\n",
      "Processing Record 440 | Solnechnyy\n",
      "Processing Record 441 | Kanigoro\n",
      "Processing Record 442 | Jumla\n",
      "Processing Record 443 | Carson City\n",
      "Processing Record 444 | Brasília de Minas\n",
      "Processing Record 445 | Augusto Corrêa\n",
      "City not found. Skipping...\n",
      "Processing Record 447 | Kochubey\n",
      "Processing Record 448 | Boizenburg\n",
      "Processing Record 449 | Yulara\n",
      "Processing Record 450 | Zhangjiakou Shi Xuanhua Qu\n",
      "Processing Record 451 | Piripiri\n",
      "Processing Record 452 | Halifax\n",
      "Processing Record 453 | Nakamura\n",
      "City not found. Skipping...\n",
      "Processing Record 455 | Vardø\n",
      "Processing Record 456 | Forestville\n",
      "Processing Record 457 | Kandrian\n",
      "Processing Record 458 | Nioro\n",
      "Processing Record 459 | Roald\n",
      "Processing Record 460 | Ca Mau\n",
      "Processing Record 461 | Cabra\n",
      "City not found. Skipping...\n",
      "Processing Record 463 | Am Timan\n",
      "Processing Record 464 | Okato\n",
      "Processing Record 465 | Conceição do Araguaia\n",
      "Processing Record 466 | Turbat\n",
      "Processing Record 467 | Stornoway\n",
      "Processing Record 468 | San Fernando del Valle de Catamarca\n",
      "Processing Record 469 | Kuril'sk\n",
      "Processing Record 470 | Ede\n",
      "Processing Record 471 | Xichang\n",
      "Processing Record 472 | Sarkand\n",
      "Processing Record 473 | Cananea\n",
      "Processing Record 474 | Port Hawkesbury\n",
      "Processing Record 475 | Ranong\n",
      "Processing Record 476 | Hervey Bay\n",
      "Processing Record 477 | Maragogi\n",
      "Processing Record 478 | Qasigiannguit\n",
      "Processing Record 479 | Albury\n",
      "Processing Record 480 | Belgaum\n",
      "Processing Record 481 | Korla\n",
      "Processing Record 482 | Barkhera Kalān\n",
      "Processing Record 483 | Taunggyi\n",
      "Processing Record 484 | Zadar\n",
      "Processing Record 485 | Houma\n",
      "City not found. Skipping...\n",
      "Processing Record 487 | Belmonte\n",
      "City not found. Skipping...\n",
      "Processing Record 489 | Talnakh\n",
      "Processing Record 490 | Cañon City\n",
      "Processing Record 491 | Ponta do Sol\n",
      "Processing Record 492 | Karratha\n",
      "Processing Record 493 | Kīhei\n",
      "Processing Record 494 | Barcelos\n",
      "Processing Record 495 | Camapuã\n",
      "Processing Record 496 | Bandarbeyla\n",
      "Processing Record 497 | Pauini\n",
      "Processing Record 498 | Bukachacha\n",
      "Processing Record 499 | Gazli\n",
      "Processing Record 500 | Ulan-Ude\n",
      "Processing Record 501 | Buin\n",
      "Processing Record 502 | Nyrob\n",
      "Processing Record 503 | Warrnambool\n",
      "Processing Record 504 | Rocha\n",
      "Processing Record 505 | Kampot\n",
      "Processing Record 506 | Yerofey Pavlovich\n",
      "Processing Record 507 | Almeirim\n",
      "Processing Record 508 | Khorixas\n",
      "Processing Record 509 | Highland Park\n",
      "Processing Record 510 | Yerbogachën\n",
      "Processing Record 511 | Abu Dhabi\n",
      "Processing Record 512 | Sept-Îles\n",
      "Processing Record 513 | Kwekwe\n",
      "Processing Record 514 | Bestöbe\n",
      "Processing Record 515 | Mar del Plata\n",
      "Processing Record 516 | Mauá\n",
      "Processing Record 517 | Hegang\n",
      "Processing Record 518 | Metro\n",
      "Processing Record 519 | Rodolfo Sánchez Taboada\n",
      "Processing Record 520 | Xining\n",
      "Processing Record 521 | Yichang\n",
      "Processing Record 522 | Coahuayana Viejo\n",
      "City not found. Skipping...\n",
      "Processing Record 524 | Yenangyaung\n",
      "Processing Record 525 | Dalvik\n",
      "Processing Record 526 | Vilcún\n",
      "Processing Record 527 | Alekseyevsk\n",
      "Processing Record 528 | Charlottesville\n",
      "Processing Record 529 | Kondopoga\n",
      "Processing Record 530 | Sinnamary\n",
      "City not found. Skipping...\n",
      "Processing Record 532 | Racine\n",
      "Processing Record 533 | Tiznit Province\n",
      "Processing Record 534 | Gravdal\n",
      "Processing Record 535 | Kyren\n",
      "Processing Record 536 | Tigil'\n",
      "Processing Record 537 | Kitob\n",
      "Processing Record 538 | Zhigansk\n",
      "Processing Record 539 | Krasnyy Chikoy\n",
      "Processing Record 540 | Baker City\n",
      "City not found. Skipping...\n",
      "Processing Record 542 | Greeley\n",
      "Processing Record 543 | Tura\n",
      "Processing Record 544 | Camp Verde\n",
      "Processing Record 545 | Half Moon Bay\n",
      "Processing Record 546 | Teya\n",
      "Processing Record 547 | Saldanha\n",
      "Processing Record 548 | Marsaxlokk\n",
      "Processing Record 549 | Zlobin\n",
      "Processing Record 550 | Anori\n",
      "Processing Record 551 | Morant Bay\n",
      "City not found. Skipping...\n",
      "Processing Record 553 | Nukus\n",
      "Processing Record 554 | Vila\n",
      "Processing Record 555 | Price\n",
      "City not found. Skipping...\n",
      "Processing Record 557 | Portland\n",
      "Processing Record 558 | Gimli\n",
      "Processing Record 559 | Ahtopol\n",
      "Processing Record 560 | Broome\n",
      "Processing Record 561 | Jishou\n",
      "Processing Record 562 | Buchanan\n",
      "Processing Record 563 | Pontes e Lacerda\n",
      "Processing Record 564 | Amurzet\n",
      "Processing Record 565 | Lexington\n",
      "Processing Record 566 | Bayan\n",
      "Processing Record 567 | Kirakira\n",
      "Processing Record 568 | Yefremov\n",
      "Processing Record 569 | Thinadhoo\n",
      "Processing Record 570 | Uribia\n",
      "Processing Record 571 | Biltine\n",
      "Processing Record 572 | Ubari\n",
      "City not found. Skipping...\n",
      "Processing Record 574 | Veinticinco de Mayo\n",
      "Processing Record 575 | Cockburn Town\n",
      "Processing Record 576 | Pyshchug\n",
      "Processing Record 577 | Inhambane\n",
      "Processing Record 578 | Merauke\n",
      "Processing Record 579 | Rovaniemi\n",
      "Processing Record 580 | Marabu\n",
      "Processing Record 581 | Murray Bridge\n",
      "Processing Record 582 | Matagami\n",
      "Processing Record 583 | La Goulette\n",
      "Processing Record 584 | Taoudenni\n",
      "Processing Record 585 | Naze\n",
      "Processing Record 586 | Treinta y Tres\n",
      "Processing Record 587 | Awjilah\n",
      "Processing Record 588 | Senanga\n",
      "Processing Record 589 | Faya\n",
      "Processing Record 590 | Padang\n",
      "Processing Record 591 | Campo Maior\n",
      "Processing Record 592 | San Ramon\n",
      "Processing Record 593 | Kokkola\n",
      "Processing Record 594 | Bastrop\n",
      "Processing Record 595 | Klyuchi\n",
      "Processing Record 596 | Grindavik\n",
      "Processing Record 597 | Shar\n",
      "Processing Record 598 | Bacong\n",
      "Processing Record 599 | Yanam\n",
      "Processing Record 600 | Vorukh\n",
      "Processing Record 601 | Afonso Cláudio\n",
      "Processing Record 602 | Nísia Floresta\n"
     ]
    }
   ],
   "source": [
    "# set up lists to hold reponse info\n",
    "city_names = []\n",
    "longitudes = []\n",
    "latitudes = []\n",
    "max_temps = []\n",
    "humidities = []\n",
    "cloudiness1 = []\n",
    "wind_speeds = []\n",
    "countries = []\n",
    "dates = []\n",
    "count = 0\n",
    "\n",
    "print(f\"Beginning Data Retrieval: \\n\")\n",
    "print(f\"------------------------\\n\" )\n",
    "# Loop through the list of cities and perform a request for data on each\n",
    "\n",
    "for city in cities:\n",
    "    city_url = query_url + \"&q=\" + city + \"&units=imperial\"\n",
    "    count += 1 \n",
    "# Get weather data\n",
    "    weather_response = requests.get(city_url)\n",
    "    weather_json = weather_response.json()\n",
    "\n",
    "# Try to grab the city name and id if they are available in the weather API\n",
    "    try:\n",
    "        \n",
    "        city_name = weather_json['name']\n",
    "        longitude = weather_json['coord']['lon']\n",
    "        latitude = weather_json['coord']['lat']\n",
    "        max_temp = weather_json['main']['temp_max']\n",
    "        humidity = weather_json['main']['humidity']\n",
    "        cloudiness = weather_json['clouds']['all']\n",
    "        wind_speed = weather_json['wind']['speed']\n",
    "        country = weather_json['sys']['country']\n",
    "        date = weather_json['dt']\n",
    "        \n",
    "        \n",
    "        city_names.append(city_name)\n",
    "        longitudes.append(longitude)\n",
    "        latitudes.append(latitude)\n",
    "        max_temps.append(max_temp)\n",
    "        humidities.append(humidity)\n",
    "        cloudiness1.append(cloudiness)\n",
    "        wind_speeds.append(wind_speed)\n",
    "        countries.append(country)\n",
    "        dates.append(date)\n",
    "        \n",
    "\n",
    "        print(f\"Processing Record {count} | {city_name}\")\n",
    "        \n",
    "# Handle exceptions for a city that is not available in the weather API\n",
    "    except:\n",
    "        # Append null values\n",
    "        print(f\"City not found. Skipping...\")\n",
    "        pass\n",
    " "
   ]
  },
  {
   "cell_type": "markdown",
   "metadata": {},
   "source": [
    "### Convert Raw Data to DataFrame\n",
    "* Export the city data into a .csv.\n",
    "* Display the DataFrame"
   ]
  },
  {
   "cell_type": "code",
   "execution_count": 5,
   "metadata": {},
   "outputs": [
    {
     "data": {
      "text/html": [
       "<div>\n",
       "<style scoped>\n",
       "    .dataframe tbody tr th:only-of-type {\n",
       "        vertical-align: middle;\n",
       "    }\n",
       "\n",
       "    .dataframe tbody tr th {\n",
       "        vertical-align: top;\n",
       "    }\n",
       "\n",
       "    .dataframe thead th {\n",
       "        text-align: right;\n",
       "    }\n",
       "</style>\n",
       "<table border=\"1\" class=\"dataframe\">\n",
       "  <thead>\n",
       "    <tr style=\"text-align: right;\">\n",
       "      <th></th>\n",
       "      <th>City</th>\n",
       "      <th>Latitude</th>\n",
       "      <th>Longitude</th>\n",
       "      <th>Max Temp</th>\n",
       "      <th>Humidity</th>\n",
       "      <th>Cloudiness</th>\n",
       "      <th>Wind Speed</th>\n",
       "      <th>Country</th>\n",
       "      <th>Date</th>\n",
       "    </tr>\n",
       "  </thead>\n",
       "  <tbody>\n",
       "    <tr>\n",
       "      <th>0</th>\n",
       "      <td>Thompson</td>\n",
       "      <td>55.74</td>\n",
       "      <td>-97.86</td>\n",
       "      <td>69.80</td>\n",
       "      <td>49</td>\n",
       "      <td>40</td>\n",
       "      <td>13.87</td>\n",
       "      <td>CA</td>\n",
       "      <td>1595177717</td>\n",
       "    </tr>\n",
       "    <tr>\n",
       "      <th>1</th>\n",
       "      <td>Norman Wells</td>\n",
       "      <td>65.28</td>\n",
       "      <td>-126.83</td>\n",
       "      <td>53.60</td>\n",
       "      <td>87</td>\n",
       "      <td>75</td>\n",
       "      <td>6.93</td>\n",
       "      <td>CA</td>\n",
       "      <td>1595178290</td>\n",
       "    </tr>\n",
       "    <tr>\n",
       "      <th>2</th>\n",
       "      <td>Vao</td>\n",
       "      <td>-22.67</td>\n",
       "      <td>167.48</td>\n",
       "      <td>69.21</td>\n",
       "      <td>74</td>\n",
       "      <td>3</td>\n",
       "      <td>15.68</td>\n",
       "      <td>NC</td>\n",
       "      <td>1595178290</td>\n",
       "    </tr>\n",
       "    <tr>\n",
       "      <th>3</th>\n",
       "      <td>Santa Branca</td>\n",
       "      <td>-23.40</td>\n",
       "      <td>-45.88</td>\n",
       "      <td>75.20</td>\n",
       "      <td>44</td>\n",
       "      <td>0</td>\n",
       "      <td>3.36</td>\n",
       "      <td>BR</td>\n",
       "      <td>1595178290</td>\n",
       "    </tr>\n",
       "    <tr>\n",
       "      <th>4</th>\n",
       "      <td>Bluff</td>\n",
       "      <td>-46.60</td>\n",
       "      <td>168.33</td>\n",
       "      <td>39.00</td>\n",
       "      <td>83</td>\n",
       "      <td>100</td>\n",
       "      <td>3.00</td>\n",
       "      <td>NZ</td>\n",
       "      <td>1595177711</td>\n",
       "    </tr>\n",
       "    <tr>\n",
       "      <th>...</th>\n",
       "      <td>...</td>\n",
       "      <td>...</td>\n",
       "      <td>...</td>\n",
       "      <td>...</td>\n",
       "      <td>...</td>\n",
       "      <td>...</td>\n",
       "      <td>...</td>\n",
       "      <td>...</td>\n",
       "      <td>...</td>\n",
       "    </tr>\n",
       "    <tr>\n",
       "      <th>558</th>\n",
       "      <td>Tam Ky</td>\n",
       "      <td>15.57</td>\n",
       "      <td>108.48</td>\n",
       "      <td>82.40</td>\n",
       "      <td>78</td>\n",
       "      <td>20</td>\n",
       "      <td>4.70</td>\n",
       "      <td>VN</td>\n",
       "      <td>1595178363</td>\n",
       "    </tr>\n",
       "    <tr>\n",
       "      <th>559</th>\n",
       "      <td>Tal'menka</td>\n",
       "      <td>53.82</td>\n",
       "      <td>83.57</td>\n",
       "      <td>68.00</td>\n",
       "      <td>42</td>\n",
       "      <td>50</td>\n",
       "      <td>6.71</td>\n",
       "      <td>RU</td>\n",
       "      <td>1595178363</td>\n",
       "    </tr>\n",
       "    <tr>\n",
       "      <th>560</th>\n",
       "      <td>Romny</td>\n",
       "      <td>50.75</td>\n",
       "      <td>33.47</td>\n",
       "      <td>68.47</td>\n",
       "      <td>70</td>\n",
       "      <td>80</td>\n",
       "      <td>2.15</td>\n",
       "      <td>UA</td>\n",
       "      <td>1595178363</td>\n",
       "    </tr>\n",
       "    <tr>\n",
       "      <th>561</th>\n",
       "      <td>Riyadh</td>\n",
       "      <td>24.69</td>\n",
       "      <td>46.72</td>\n",
       "      <td>104.00</td>\n",
       "      <td>16</td>\n",
       "      <td>78</td>\n",
       "      <td>6.93</td>\n",
       "      <td>SA</td>\n",
       "      <td>1595178098</td>\n",
       "    </tr>\n",
       "    <tr>\n",
       "      <th>562</th>\n",
       "      <td>Champerico</td>\n",
       "      <td>14.30</td>\n",
       "      <td>-91.92</td>\n",
       "      <td>86.00</td>\n",
       "      <td>74</td>\n",
       "      <td>20</td>\n",
       "      <td>6.93</td>\n",
       "      <td>GT</td>\n",
       "      <td>1595178363</td>\n",
       "    </tr>\n",
       "  </tbody>\n",
       "</table>\n",
       "<p>563 rows × 9 columns</p>\n",
       "</div>"
      ],
      "text/plain": [
       "             City  Latitude  Longitude  Max Temp  Humidity  Cloudiness  \\\n",
       "0        Thompson     55.74     -97.86     69.80        49          40   \n",
       "1    Norman Wells     65.28    -126.83     53.60        87          75   \n",
       "2             Vao    -22.67     167.48     69.21        74           3   \n",
       "3    Santa Branca    -23.40     -45.88     75.20        44           0   \n",
       "4           Bluff    -46.60     168.33     39.00        83         100   \n",
       "..            ...       ...        ...       ...       ...         ...   \n",
       "558        Tam Ky     15.57     108.48     82.40        78          20   \n",
       "559     Tal'menka     53.82      83.57     68.00        42          50   \n",
       "560         Romny     50.75      33.47     68.47        70          80   \n",
       "561        Riyadh     24.69      46.72    104.00        16          78   \n",
       "562    Champerico     14.30     -91.92     86.00        74          20   \n",
       "\n",
       "     Wind Speed Country        Date  \n",
       "0         13.87      CA  1595177717  \n",
       "1          6.93      CA  1595178290  \n",
       "2         15.68      NC  1595178290  \n",
       "3          3.36      BR  1595178290  \n",
       "4          3.00      NZ  1595177711  \n",
       "..          ...     ...         ...  \n",
       "558        4.70      VN  1595178363  \n",
       "559        6.71      RU  1595178363  \n",
       "560        2.15      UA  1595178363  \n",
       "561        6.93      SA  1595178098  \n",
       "562        6.93      GT  1595178363  \n",
       "\n",
       "[563 rows x 9 columns]"
      ]
     },
     "execution_count": 5,
     "metadata": {},
     "output_type": "execute_result"
    }
   ],
   "source": [
    "# create a data frame \n",
    "weather_dict = {\n",
    "    \"City\": city_names,\n",
    "    \"Latitude\": latitudes,\n",
    "    \"Longitude\": longitudes,\n",
    "    \"Max Temp\": max_temps,\n",
    "    \"Humidity\": humidities,\n",
    "    \"Cloudiness\": cloudiness1,\n",
    "    \"Wind Speed\": wind_speeds,\n",
    "    \"Country\": countries,\n",
    "    \"Date\": dates\n",
    "}\n",
    "weather_data = pd.DataFrame(weather_dict)\n",
    "weather_data"
   ]
  },
  {
   "cell_type": "code",
   "execution_count": 6,
   "metadata": {},
   "outputs": [],
   "source": [
    "# export to csv\n",
    "weather_data.to_csv (r'C:\\Users\\cdfen\\Documents\\Python-API-Challenge\\Weatherpy\\weatherdf.csv', index = False, header=True)"
   ]
  },
  {
   "cell_type": "markdown",
   "metadata": {},
   "source": [
    "## Inspect the data and remove the cities where the humidity > 100%.\n"
   ]
  },
  {
   "cell_type": "code",
   "execution_count": 7,
   "metadata": {},
   "outputs": [
    {
     "data": {
      "text/html": [
       "<div>\n",
       "<style scoped>\n",
       "    .dataframe tbody tr th:only-of-type {\n",
       "        vertical-align: middle;\n",
       "    }\n",
       "\n",
       "    .dataframe tbody tr th {\n",
       "        vertical-align: top;\n",
       "    }\n",
       "\n",
       "    .dataframe thead th {\n",
       "        text-align: right;\n",
       "    }\n",
       "</style>\n",
       "<table border=\"1\" class=\"dataframe\">\n",
       "  <thead>\n",
       "    <tr style=\"text-align: right;\">\n",
       "      <th></th>\n",
       "      <th>City</th>\n",
       "      <th>Latitude</th>\n",
       "      <th>Longitude</th>\n",
       "      <th>Max Temp</th>\n",
       "      <th>Humidity</th>\n",
       "      <th>Cloudiness</th>\n",
       "      <th>Wind Speed</th>\n",
       "      <th>Country</th>\n",
       "      <th>Date</th>\n",
       "    </tr>\n",
       "  </thead>\n",
       "  <tbody>\n",
       "  </tbody>\n",
       "</table>\n",
       "</div>"
      ],
      "text/plain": [
       "Empty DataFrame\n",
       "Columns: [City, Latitude, Longitude, Max Temp, Humidity, Cloudiness, Wind Speed, Country, Date]\n",
       "Index: []"
      ]
     },
     "execution_count": 7,
     "metadata": {},
     "output_type": "execute_result"
    }
   ],
   "source": [
    "# create a dataframe to see if there are any humidity values over 100\n",
    "humidity_100plus = weather_data.loc[weather_data[\"Humidity\"] > 100]\n",
    "humidity_100plus"
   ]
  },
  {
   "cell_type": "code",
   "execution_count": 8,
   "metadata": {},
   "outputs": [],
   "source": [
    "# No values of humidity are over 100\n",
    "# no need to create a new 'clean' dataframe, can utilize weather_data above and already exported csv file"
   ]
  },
  {
   "cell_type": "markdown",
   "metadata": {},
   "source": [
    "## Plotting the Data\n",
    "* Use proper labeling of the plots using plot titles (including date of analysis) and axes labels.\n",
    "* Save the plotted figures as .pngs."
   ]
  },
  {
   "cell_type": "markdown",
   "metadata": {},
   "source": [
    "## Temperature vs. Latitude Plot"
   ]
  },
  {
   "cell_type": "code",
   "execution_count": 37,
   "metadata": {
    "scrolled": true
   },
   "outputs": [
    {
     "data": {
      "image/png": "[encoded data removed]",
      "text/plain": [
       "<Figure size 432x288 with 1 Axes>"
      ]
     },
     "metadata": {
      "needs_background": "light"
     },
     "output_type": "display_data"
    }
   ],
   "source": [
    "# Create a Scatter Plot for temperature vs latitude \n",
    "x_values = weather_data['Latitude']\n",
    "y_values = weather_data['Max Temp']\n",
    "plt.scatter(x_values,y_values, color='magenta')\n",
    "plt.xlabel('Latitude')\n",
    "plt.ylabel('Max Temperature (F)')\n",
    "plt.title('Max Temperature vs City Latitude')\n",
    "plt.savefig('temp_vs_lat')\n",
    "plt.show()\n"
   ]
  },
  {
   "cell_type": "markdown",
   "metadata": {},
   "source": [
    "Analysis:\n",
    "In this plot the code is analyzing the relationship between the max temperature (F) and the city latitude. From the graph it can be seen that as city latitudes approach 0, the max temperature is tends to increase. This is understandable as the equator is located at 0 degrees latitude.\n"
   ]
  },
  {
   "cell_type": "markdown",
   "metadata": {},
   "source": [
    "## Humidity vs. Latitude Plot"
   ]
  },
  {
   "cell_type": "code",
   "execution_count": 38,
   "metadata": {},
   "outputs": [
    {
     "data": {
      "image/png": "[encoded data removed]",
      "text/plain": [
       "<Figure size 432x288 with 1 Axes>"
      ]
     },
     "metadata": {
      "needs_background": "light"
     },
     "output_type": "display_data"
    }
   ],
   "source": [
    "# Create a Scatter Plot for humidity vs latitude\n",
    "x_values = weather_data['Latitude']\n",
    "y_values = weather_data['Humidity']\n",
    "plt.scatter(x_values,y_values, color='g')\n",
    "plt.xlabel('Latitude')\n",
    "plt.ylabel('Humidity (%)')\n",
    "plt.title('Humidity vs City Latitude')\n",
    "plt.savefig('humidity_vs_lat')\n",
    "plt.show()"
   ]
  },
  {
   "cell_type": "markdown",
   "metadata": {},
   "source": [
    "Analysis:\n",
    "In this plot the code is analyzing the relationship between the humidity (%) and the city latitude. From this scatter plot, it is noticeable that there is high humidity across the entirity of the city latitude range. It would make sense that there are fewer lower humidity points at and around the latitude of zero as that is near or at the equator which tends to have high humidity. The variation in high and low humidity points accross the latitudes suggests there is a large range of varying climates across these collected latitudes. "
   ]
  },
  {
   "cell_type": "markdown",
   "metadata": {},
   "source": [
    "## Cloudiness vs. Latitude Plot"
   ]
  },
  {
   "cell_type": "code",
   "execution_count": 39,
   "metadata": {},
   "outputs": [
    {
     "data": {
      "image/png": "[encoded data removed]",
      "text/plain": [
       "<Figure size 432x288 with 1 Axes>"
      ]
     },
     "metadata": {
      "needs_background": "light"
     },
     "output_type": "display_data"
    }
   ],
   "source": [
    "# Create a Scatter Plot for humidity vs latitude\n",
    "x_values = weather_data['Latitude']\n",
    "y_values = weather_data['Cloudiness']\n",
    "plt.scatter(x_values,y_values, color='turquoise')\n",
    "plt.xlabel('Latitude')\n",
    "plt.ylabel('Cloudiness (%)')\n",
    "plt.title('Cloudiness vs City Latitude')\n",
    "plt.savefig('cloudiness_vs_lat')\n",
    "plt.show()"
   ]
  },
  {
   "cell_type": "markdown",
   "metadata": {},
   "source": [
    "Analysis:\n",
    "In this scatter plot the code is analyzing the relationship between the cloudiness (%) and the city latitude. It is observable that there is a wide range of cloudiness percentages across all the city latitudes. This could be explained by the fact that cloudiness level varries on a day to day basis and to see a larger pattern cloudiness would need to be measured over a period of time rather than on a singular day."
   ]
  },
  {
   "cell_type": "markdown",
   "metadata": {},
   "source": [
    "## Wind Speed vs. Latitude Plot"
   ]
  },
  {
   "cell_type": "code",
   "execution_count": 40,
   "metadata": {},
   "outputs": [
    {
     "data": {
      "image/png": "[encoded data removed]",
      "text/plain": [
       "<Figure size 432x288 with 1 Axes>"
      ]
     },
     "metadata": {
      "needs_background": "light"
     },
     "output_type": "display_data"
    }
   ],
   "source": [
    "# Create a Scatter Plot for humidity vs latitude\n",
    "x_values = weather_data['Latitude']\n",
    "y_values = weather_data['Wind Speed']\n",
    "plt.scatter(x_values,y_values, color='purple')\n",
    "plt.xlabel('Latitude')\n",
    "plt.ylabel('Wind Speed (mph)')\n",
    "plt.title('Wind Speed vs City Latitude')\n",
    "plt.savefig('wind_speed_vs_lat')\n",
    "plt.show()"
   ]
  },
  {
   "cell_type": "markdown",
   "metadata": {},
   "source": [
    "Analysis:\n",
    "In this scatter plot the code is analyzing the relationship between the wind speed (mph) and the city latitude. From the plot it can be noticed that while there is a range of wind speeds at each latitude point, the higher wind speeds tend to be further from the 0 latitude. In this particular set of data the highest wind speeds look to be at -38 latitude. This is understandable as the higher latitudes are closer to the North and South Poles which tend to have inclement weather. "
   ]
  },
  {
   "cell_type": "markdown",
   "metadata": {},
   "source": [
    "## Linear Regression"
   ]
  },
  {
   "cell_type": "code",
   "execution_count": 13,
   "metadata": {},
   "outputs": [],
   "source": [
    "# Create Northern and Southern Hemisphere DataFrames\n",
    "N_hem = weather_data.loc[weather_data[\"Latitude\"] > 0]\n",
    "S_hem = weather_data.loc[weather_data[\"Latitude\"] < 0]"
   ]
  },
  {
   "cell_type": "markdown",
   "metadata": {},
   "source": [
    "####  Northern Hemisphere - Max Temp vs. Latitude Linear Regression"
   ]
  },
  {
   "cell_type": "code",
   "execution_count": 42,
   "metadata": {},
   "outputs": [
    {
     "name": "stdout",
     "output_type": "stream",
     "text": [
      "The r-squared is: 0.4832503129723867\n"
     ]
    },
    {
     "data": {
      "image/png": "[encoded data removed]",
      "text/plain": [
       "<Figure size 432x288 with 1 Axes>"
      ]
     },
     "metadata": {
      "needs_background": "light"
     },
     "output_type": "display_data"
    }
   ],
   "source": [
    "x_val = N_hem['Latitude']\n",
    "y_val = N_hem['Max Temp']\n",
    "\n",
    "# Perform a linear regression on temperature vs. latitude\n",
    "(slope, intercept, rvalue, pvalue, stderr) = linregress(x_val, y_val)\n",
    "\n",
    "# Get regression values\n",
    "regress_values = x_val * slope + intercept\n",
    "\n",
    "# Create line equation string\n",
    "line_eq = \"y = \" + str(round(slope,2)) + \"x +\" + str(round(intercept,2))\n",
    "\n",
    "# Create Plot\n",
    "plt.scatter(x_val,y_val, color = 'magenta')\n",
    "plt.plot(x_val,regress_values,\"r-\", color = 'b', label = \"y = \" + str(round(slope,2)) + \"x +\" + str(round(intercept,2)))\n",
    "\n",
    "# Label plot and annotate the line equation\n",
    "plt.xlabel('Latitude')\n",
    "plt.ylabel('Temperature (F)')\n",
    "plt.legend(loc=\"upper left\")\n",
    "plt.title(\"Northern Hemisphere - Max Temp vs. Latitude Linear Regression\")\n",
    "\n",
    "# Print r square value\n",
    "print(f\"The r-squared is: {rvalue**2}\")\n",
    "\n",
    "# save as png\n",
    "plt.savefig('nhem_temp_v_lat')\n",
    "# Show plot\n",
    "plt.show()"
   ]
  },
  {
   "cell_type": "markdown",
   "metadata": {},
   "source": [
    "####  Southern Hemisphere - Max Temp vs. Latitude Linear Regression"
   ]
  },
  {
   "cell_type": "code",
   "execution_count": 43,
   "metadata": {},
   "outputs": [
    {
     "name": "stdout",
     "output_type": "stream",
     "text": [
      "The r-squared is: 0.5763895260098979\n"
     ]
    },
    {
     "data": {
      "image/png": "[encoded data removed]",
      "text/plain": [
       "<Figure size 432x288 with 1 Axes>"
      ]
     },
     "metadata": {
      "needs_background": "light"
     },
     "output_type": "display_data"
    }
   ],
   "source": [
    "x_val = S_hem['Latitude']\n",
    "y_val = S_hem['Max Temp']\n",
    "\n",
    "# Perform a linear regression on temperature vs. latitude\n",
    "(slope, intercept, rvalue, pvalue, stderr) = linregress(x_val, y_val)\n",
    "\n",
    "# Get regression values\n",
    "regress_values = x_val * slope + intercept\n",
    "\n",
    "# Create line equation string\n",
    "line_eq = \"y = \" + str(round(slope,2)) + \"x +\" + str(round(intercept,2))\n",
    "\n",
    "# Create Plot\n",
    "plt.scatter(x_val,y_val, color = 'magenta')\n",
    "plt.plot(x_val,regress_values,\"r-\", color = 'b', label = \"y = \" + str(round(slope,2)) + \"x +\" + str(round(intercept,2)))\n",
    "\n",
    "# Label plot and annotate the line equation\n",
    "plt.xlabel('Latitude')\n",
    "plt.ylabel('Temperature (F)')\n",
    "plt.legend(loc=\"upper left\")\n",
    "plt.title(\"Southern Hemisphere - Max Temp vs. Latitude Linear Regression\")\n",
    "\n",
    "# Print r square value\n",
    "print(f\"The r-squared is: {rvalue**2}\")\n",
    "\n",
    "# save as png\n",
    "plt.savefig('shem_temp_v_lat')\n",
    "\n",
    "# Show plot\n",
    "plt.show()"
   ]
  },
  {
   "cell_type": "markdown",
   "metadata": {},
   "source": [
    "Analysis: In the above two scatter plots, the linear regression analyzes the relationship between the max temperature of a city (F) and the city latitude. Both regressions have a r squared value of around 50%, meaning that both regressions explain around 50% of the variance. This is understandable as temperature varries day to day and time of year. "
   ]
  },
  {
   "cell_type": "markdown",
   "metadata": {},
   "source": [
    "####  Northern Hemisphere - Humidity (%) vs. Latitude Linear Regression"
   ]
  },
  {
   "cell_type": "code",
   "execution_count": 44,
   "metadata": {},
   "outputs": [
    {
     "name": "stdout",
     "output_type": "stream",
     "text": [
      "The r-squared is: 0.0019427362505166474\n"
     ]
    },
    {
     "data": {
      "image/png": "[encoded data removed]",
      "text/plain": [
       "<Figure size 432x288 with 1 Axes>"
      ]
     },
     "metadata": {
      "needs_background": "light"
     },
     "output_type": "display_data"
    }
   ],
   "source": [
    "x_val = N_hem['Latitude']\n",
    "y_val = N_hem['Humidity']\n",
    "\n",
    "# Perform a linear regression on temperature vs. latitude\n",
    "(slope, intercept, rvalue, pvalue, stderr) = linregress(x_val, y_val)\n",
    "\n",
    "# Get regression values\n",
    "regress_values = x_val * slope + intercept\n",
    "\n",
    "# Create line equation string\n",
    "line_eq = \"y = \" + str(round(slope,2)) + \"x +\" + str(round(intercept,2))\n",
    "\n",
    "# Create Plot\n",
    "plt.scatter(x_val,y_val, color = 'g')\n",
    "plt.plot(x_val,regress_values,\"r-\", color = 'b', label = \"y = \" + str(round(slope,2)) + \"x +\" + str(round(intercept,2)))\n",
    "\n",
    "# Label plot and annotate the line equation\n",
    "plt.xlabel('Latitude')\n",
    "plt.ylabel('Humidity (%)')\n",
    "plt.legend(loc=\"upper left\")\n",
    "plt.title(\"Northern Hemisphere - Humidity vs. Latitude Linear Regression\")\n",
    "\n",
    "# Print r square value\n",
    "print(f\"The r-squared is: {rvalue**2}\")\n",
    "\n",
    "# save as png\n",
    "plt.savefig('nhem_humidity_v_lat')\n",
    "\n",
    "# Show plot\n",
    "plt.show()"
   ]
  },
  {
   "cell_type": "markdown",
   "metadata": {},
   "source": [
    "####  Southern Hemisphere - Humidity (%) vs. Latitude Linear Regression"
   ]
  },
  {
   "cell_type": "code",
   "execution_count": 45,
   "metadata": {},
   "outputs": [
    {
     "name": "stdout",
     "output_type": "stream",
     "text": [
      "The r-squared is: 0.03929263391048692\n"
     ]
    },
    {
     "data": {
      "image/png": "[encoded data removed]",
      "text/plain": [
       "<Figure size 432x288 with 1 Axes>"
      ]
     },
     "metadata": {
      "needs_background": "light"
     },
     "output_type": "display_data"
    }
   ],
   "source": [
    "x_val = S_hem['Latitude']\n",
    "y_val = S_hem['Humidity']\n",
    "\n",
    "# Perform a linear regression on temperature vs. latitude\n",
    "(slope, intercept, rvalue, pvalue, stderr) = linregress(x_val, y_val)\n",
    "\n",
    "# Get regression values\n",
    "regress_values = x_val * slope + intercept\n",
    "\n",
    "# Create line equation string\n",
    "line_eq = \"y = \" + str(round(slope,2)) + \"x +\" + str(round(intercept,2))\n",
    "\n",
    "# Create Plot\n",
    "plt.scatter(x_val,y_val, color = 'g')\n",
    "plt.plot(x_val,regress_values,\"r-\", color = 'b', label = \"y = \" + str(round(slope,2)) + \"x +\" + str(round(intercept,2)))\n",
    "\n",
    "# Label plot and annotate the line equation\n",
    "plt.xlabel('Latitude')\n",
    "plt.ylabel('Humidity (%)')\n",
    "plt.legend(loc=\"upper left\")\n",
    "plt.title(\"Southern Hemisphere - Humidity vs. Latitude Linear Regression\")\n",
    "\n",
    "# Print r square value\n",
    "print(f\"The r-squared is: {rvalue**2}\")\n",
    "\n",
    "# save as png\n",
    "plt.savefig('shem_humidity_v_lat')\n",
    "\n",
    "# Show plot\n",
    "plt.show()"
   ]
  },
  {
   "cell_type": "markdown",
   "metadata": {},
   "source": [
    "Analysis: In the above two green scatter plots, the linear regressions analyze the relationship between the humidity of a city (%) and the city latitude. In both cases, the r squared value is extremely low, under 4%. This indicates that both regressions explain vary little of the variance. This is understandable as there are a vast range of climates to be considered and that humidity varries day to day and time of year. "
   ]
  },
  {
   "cell_type": "markdown",
   "metadata": {},
   "source": [
    "####  Northern Hemisphere - Cloudiness (%) vs. Latitude Linear Regression"
   ]
  },
  {
   "cell_type": "code",
   "execution_count": 46,
   "metadata": {},
   "outputs": [
    {
     "name": "stdout",
     "output_type": "stream",
     "text": [
      "The r-squared is: 2.081095119779275e-05\n"
     ]
    },
    {
     "data": {
      "image/png": "[encoded data removed]",
      "text/plain": [
       "<Figure size 432x288 with 1 Axes>"
      ]
     },
     "metadata": {
      "needs_background": "light"
     },
     "output_type": "display_data"
    }
   ],
   "source": [
    "x_val = N_hem['Latitude']\n",
    "y_val = N_hem['Cloudiness']\n",
    "\n",
    "# Perform a linear regression on temperature vs. latitude\n",
    "(slope, intercept, rvalue, pvalue, stderr) = linregress(x_val, y_val)\n",
    "\n",
    "# Get regression values\n",
    "regress_values = x_val * slope + intercept\n",
    "\n",
    "# Create line equation string\n",
    "line_eq = \"y = \" + str(round(slope,2)) + \"x +\" + str(round(intercept,2))\n",
    "\n",
    "# Create Plot\n",
    "plt.scatter(x_val,y_val, color = 'turquoise')\n",
    "plt.plot(x_val,regress_values,\"r-\", color = 'b', label = \"y = \" + str(round(slope,2)) + \"x +\" + str(round(intercept,2)))\n",
    "\n",
    "# Label plot and annotate the line equation\n",
    "plt.xlabel('Latitude')\n",
    "plt.ylabel('Cloudiness (%)')\n",
    "plt.legend(loc=\"upper left\")\n",
    "plt.title(\"Northern Hemisphere - Cloudiness vs. Latitude Linear Regression\")\n",
    "\n",
    "# Print r square value\n",
    "print(f\"The r-squared is: {rvalue**2}\")\n",
    "\n",
    "# save as png\n",
    "plt.savefig('nhem_cloud_v_lat')\n",
    "\n",
    "# Show plot\n",
    "plt.show()"
   ]
  },
  {
   "cell_type": "markdown",
   "metadata": {},
   "source": [
    "####  Southern Hemisphere - Cloudiness (%) vs. Latitude Linear Regression"
   ]
  },
  {
   "cell_type": "code",
   "execution_count": 47,
   "metadata": {},
   "outputs": [
    {
     "name": "stdout",
     "output_type": "stream",
     "text": [
      "The r-squared is: 0.019689273351149374\n"
     ]
    },
    {
     "data": {
      "image/png": "[encoded data removed]",
      "text/plain": [
       "<Figure size 432x288 with 1 Axes>"
      ]
     },
     "metadata": {
      "needs_background": "light"
     },
     "output_type": "display_data"
    }
   ],
   "source": [
    "x_val = S_hem['Latitude']\n",
    "y_val = S_hem['Cloudiness']\n",
    "\n",
    "# Perform a linear regression on temperature vs. latitude\n",
    "(slope, intercept, rvalue, pvalue, stderr) = linregress(x_val, y_val)\n",
    "\n",
    "# Get regression values\n",
    "regress_values = x_val * slope + intercept\n",
    "\n",
    "# Create line equation string\n",
    "line_eq = \"y = \" + str(round(slope,2)) + \"x +\" + str(round(intercept,2))\n",
    "\n",
    "# Create Plot\n",
    "plt.scatter(x_val,y_val, color = 'turquoise')\n",
    "plt.plot(x_val,regress_values,\"r-\", color = 'b', label = \"y = \" + str(round(slope,2)) + \"x +\" + str(round(intercept,2)))\n",
    "\n",
    "# Label plot and annotate the line equation\n",
    "plt.xlabel('Latitude')\n",
    "plt.ylabel('Cloudiness (%)')\n",
    "plt.legend(loc=\"upper left\")\n",
    "plt.title(\"Southern Hemisphere - Cloudiness vs. Latitude Linear Regression\")\n",
    "\n",
    "# Print r square value\n",
    "print(f\"The r-squared is: {rvalue**2}\")\n",
    "\n",
    "# save as png\n",
    "plt.savefig('shem_cloud_v_lat')\n",
    "\n",
    "# Show plot\n",
    "plt.show()"
   ]
  },
  {
   "cell_type": "markdown",
   "metadata": {},
   "source": [
    "Analysis: In the teal scatter plots, the linear regressions analyze the relationship between the cloudiness of a city (%) and the city latitude. In both regressions the r-squared value again indicates that very little of the variance is explained. This can be attributed to the fact that the data was taken on a singular day and that there is variance in cloudiness levels throughout the time of day, day to day and during a particular time of year. For a clearer picture more data across multpile days would need to be compiled."
   ]
  },
  {
   "cell_type": "markdown",
   "metadata": {},
   "source": [
    "####  Northern Hemisphere - Wind Speed (mph) vs. Latitude Linear Regression"
   ]
  },
  {
   "cell_type": "code",
   "execution_count": 48,
   "metadata": {},
   "outputs": [
    {
     "name": "stdout",
     "output_type": "stream",
     "text": [
      "The r-squared is: 0.008205152329026848\n"
     ]
    },
    {
     "data": {
      "image/png": "[encoded data removed]",
      "text/plain": [
       "<Figure size 432x288 with 1 Axes>"
      ]
     },
     "metadata": {
      "needs_background": "light"
     },
     "output_type": "display_data"
    }
   ],
   "source": [
    "x_val = N_hem['Latitude']\n",
    "y_val = N_hem['Wind Speed']\n",
    "\n",
    "# Perform a linear regression on temperature vs. latitude\n",
    "(slope, intercept, rvalue, pvalue, stderr) = linregress(x_val, y_val)\n",
    "\n",
    "# Get regression values\n",
    "regress_values = x_val * slope + intercept\n",
    "\n",
    "# Create line equation string\n",
    "line_eq = \"y = \" + str(round(slope,2)) + \"x +\" + str(round(intercept,2))\n",
    "\n",
    "# Create Plot\n",
    "plt.scatter(x_val,y_val, color = 'purple')\n",
    "plt.plot(x_val,regress_values,\"r-\", color = 'b', label = \"y = \" + str(round(slope,2)) + \"x +\" + str(round(intercept,2)))\n",
    "\n",
    "# Label plot and annotate the line equation\n",
    "plt.xlabel('Latitude')\n",
    "plt.ylabel('Wind Speed (mph)')\n",
    "plt.legend(loc=\"upper left\")\n",
    "plt.title(\"Northern Hemisphere - Wind Speed vs. Latitude Linear Regression\")\n",
    "\n",
    "# Print r square value\n",
    "print(f\"The r-squared is: {rvalue**2}\")\n",
    "\n",
    "# save as png\n",
    "plt.savefig('nhem_wind_v_lat')\n",
    "\n",
    "# Show plot\n",
    "plt.show()"
   ]
  },
  {
   "cell_type": "markdown",
   "metadata": {},
   "source": [
    "####  Southern Hemisphere - Wind Speed (mph) vs. Latitude Linear Regression"
   ]
  },
  {
   "cell_type": "code",
   "execution_count": 49,
   "metadata": {},
   "outputs": [
    {
     "name": "stdout",
     "output_type": "stream",
     "text": [
      "The r-squared is: 0.011785274808022666\n"
     ]
    },
    {
     "data": {
      "image/png": "[encoded data removed]",
      "text/plain": [
       "<Figure size 432x288 with 1 Axes>"
      ]
     },
     "metadata": {
      "needs_background": "light"
     },
     "output_type": "display_data"
    }
   ],
   "source": [
    "x_val = S_hem['Latitude']\n",
    "y_val = S_hem['Wind Speed']\n",
    "\n",
    "# Perform a linear regression on temperature vs. latitude\n",
    "(slope, intercept, rvalue, pvalue, stderr) = linregress(x_val, y_val)\n",
    "\n",
    "# Get regression values\n",
    "regress_values = x_val * slope + intercept\n",
    "\n",
    "# Create line equation string\n",
    "line_eq = \"y = \" + str(round(slope,2)) + \"x +\" + str(round(intercept,2))\n",
    "\n",
    "# Create Plot\n",
    "plt.scatter(x_val,y_val, color = 'purple')\n",
    "plt.plot(x_val,regress_values,\"r-\", color = 'b', label = \"y = \" + str(round(slope,2)) + \"x +\" + str(round(intercept,2)))\n",
    "\n",
    "# Label plot and annotate the line equation\n",
    "plt.xlabel('Latitude')\n",
    "plt.ylabel('Wind Speed (mph)')\n",
    "plt.legend(loc=\"upper left\")\n",
    "plt.title(\"Southern Hemisphere - Wind Speed vs. Latitude Linear Regression\")\n",
    "\n",
    "# Print r square value\n",
    "print(f\"The r-squared is: {rvalue**2}\")\n",
    "\n",
    "# save as png\n",
    "plt.savefig('shem_wind_v_lat')\n",
    "\n",
    "# Show plot\n",
    "plt.show()"
   ]
  },
  {
   "cell_type": "markdown",
   "metadata": {},
   "source": [
    "Analysis:\n",
    "In the final two scatter plots (purple), the linear regressions analyze the relationship between the wind speed of a city (mph) and the city latitude. In both regressions the r-squared values are low. In both cases very little of the variance is explained. This could be attributed to the fact that wind speeds change frequently from the time during the day, climate, the date measured and even the time of year."
   ]
  },
  {
   "cell_type": "code",
   "execution_count": null,
   "metadata": {},
   "outputs": [],
   "source": []
  }
 ],
 "metadata": {
  "anaconda-cloud": {},
  "kernel_info": {
   "name": "python3"
  },
  "kernelspec": {
   "display_name": "Python 3",
   "language": "python",
   "name": "python3"
  },
  "language_info": {
   "codemirror_mode": {
    "name": "ipython",
    "version": 3
   },
   "file_extension": ".py",
   "mimetype": "text/x-python",
   "name": "python",
   "nbconvert_exporter": "python",
   "pygments_lexer": "ipython3",
   "version": "3.7.6"
  },
  "latex_envs": {
   "LaTeX_envs_menu_present": true,
   "autoclose": false,
   "autocomplete": true,
   "bibliofile": "biblio.bib",
   "cite_by": "apalike",
   "current_citInitial": 1,
   "eqLabelWithNumbers": true,
   "eqNumInitial": 1,
   "hotkeys": {
    "equation": "Ctrl-E",
    "itemize": "Ctrl-I"
   },
   "labels_anchors": false,
   "latex_user_defs": false,
   "report_style_numbering": false,
   "user_envs_cfg": false
  },
  "nteract": {
   "version": "0.12.3"
  }
 },
 "nbformat": 4,
 "nbformat_minor": 4
}
