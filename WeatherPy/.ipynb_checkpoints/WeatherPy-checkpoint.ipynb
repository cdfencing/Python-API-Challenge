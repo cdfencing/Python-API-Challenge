{
 "cells": [
  {
   "cell_type": "markdown",
   "metadata": {},
   "source": [
    "# WeatherPy\n"
   ]
  },
  {
   "cell_type": "markdown",
   "metadata": {},
   "source": [
    "# Data Analysis:\n",
    "\n",
    "1)\n",
    "\n",
    "2)\n",
    "\n",
    "3)\n"
   ]
  },
  {
   "cell_type": "code",
   "execution_count": 6,
   "metadata": {
    "scrolled": true
   },
   "outputs": [],
   "source": [
    "# Dependencies and Setup\n",
    "import matplotlib.pyplot as plt\n",
    "import pandas as pd\n",
    "import numpy as np\n",
    "import requests\n",
    "import time\n",
    "import scipy.stats as st\n",
    "from scipy.stats import linregress\n",
    "\n",
    "# Import API key\n",
    "from api_keys import weather_api_key\n",
    "\n",
    "# Incorporated citipy to determine city based on latitude and longitude\n",
    "from citipy import citipy\n",
    "\n",
    "# Output File (CSV)\n",
    "output_data_file = \"output_data/cities.csv\"\n",
    "\n",
    "# Range of latitudes and longitudes\n",
    "lat_range = (-90, 90)\n",
    "lng_range = (-180, 180)"
   ]
  },
  {
   "cell_type": "markdown",
   "metadata": {},
   "source": [
    "## Generate Cities List"
   ]
  },
  {
   "cell_type": "code",
   "execution_count": 7,
   "metadata": {},
   "outputs": [
    {
     "data": {
      "text/plain": [
       "615"
      ]
     },
     "execution_count": 7,
     "metadata": {},
     "output_type": "execute_result"
    }
   ],
   "source": [
    "# List for holding lat_lngs and cities\n",
    "lat_lngs = []\n",
    "cities = []\n",
    "\n",
    "# Create a set of random lat and lng combinations\n",
    "lats = np.random.uniform(lat_range[0], lat_range[1], size=1500)\n",
    "lngs = np.random.uniform(lng_range[0], lng_range[1], size=1500)\n",
    "lat_lngs = zip(lats, lngs)\n",
    "\n",
    "# Identify nearest city for each lat, lng combination\n",
    "for lat_lng in lat_lngs:\n",
    "    city = citipy.nearest_city(lat_lng[0], lat_lng[1]).city_name\n",
    "    \n",
    "    # If the city is unique, then add it to a our cities list\n",
    "    if city not in cities:\n",
    "        cities.append(city)\n",
    "\n",
    "# Print the city count to confirm sufficient count\n",
    "len(cities)"
   ]
  },
  {
   "cell_type": "markdown",
   "metadata": {},
   "source": [
    "### Perform API Calls\n",
    "* Perform a weather check on each city using a series of successive API calls.\n",
    "* Include a print log of each city as it'sbeing processed, skip cities not found\n"
   ]
  },
  {
   "cell_type": "code",
   "execution_count": 8,
   "metadata": {},
   "outputs": [
    {
     "data": {
      "text/plain": [
       "'http://api.openweathermap.org/data/2.5/weather?appid=9d88a4e32284086ca01a89386c890bf8'"
      ]
     },
     "execution_count": 8,
     "metadata": {},
     "output_type": "execute_result"
    }
   ],
   "source": [
    "# Save config information\n",
    "url = \"http://api.openweathermap.org/data/2.5/weather?\"\n",
    "\n",
    "# Build query URL\n",
    "query_url = url + \"appid=\" + weather_api_key \n",
    "query_url"
   ]
  },
  {
   "cell_type": "code",
   "execution_count": 13,
   "metadata": {},
   "outputs": [
    {
     "name": "stdout",
     "output_type": "stream",
     "text": [
      "Beginning Data Retrieval: \n",
      "\n",
      "------------------------\n",
      "\n",
      "Processing Record 1 | Thinadhoo\n",
      "Processing Record 2 | Xam Nua\n",
      "Processing Record 3 | Qaanaaq\n",
      "Processing Record 4 | Spring Hill\n",
      "City not found. Skipping...\n",
      "Processing Record 6 | Puqi\n",
      "Processing Record 7 | Haines Junction\n",
      "Processing Record 8 | Dingalan\n",
      "Processing Record 9 | Fairbanks\n",
      "Processing Record 10 | Rikitea\n",
      "Processing Record 11 | Mar del Plata\n",
      "Processing Record 12 | Kudahuvadhoo\n",
      "City not found. Skipping...\n",
      "Processing Record 14 | Lobito\n",
      "Processing Record 15 | Tezu\n",
      "Processing Record 16 | Hobart\n",
      "City not found. Skipping...\n",
      "Processing Record 18 | Porosozero\n",
      "Processing Record 19 | New Norfolk\n",
      "Processing Record 20 | Clyde River\n",
      "Processing Record 21 | Punta Arenas\n",
      "Processing Record 22 | Nālūt\n",
      "Processing Record 23 | Lavrentiya\n",
      "Processing Record 24 | Nuuk\n",
      "Processing Record 25 | Geraldton\n",
      "Processing Record 26 | Winnemucca\n",
      "City not found. Skipping...\n",
      "Processing Record 28 | Bluff\n",
      "Processing Record 29 | Port-Cartier\n",
      "Processing Record 30 | Jamestown\n",
      "City not found. Skipping...\n",
      "Processing Record 32 | Chokurdakh\n",
      "Processing Record 33 | Ampanihy\n",
      "Processing Record 34 | Nishihara\n",
      "Processing Record 35 | Yellowknife\n",
      "Processing Record 36 | Busselton\n",
      "Processing Record 37 | Longyearbyen\n",
      "Processing Record 38 | Kapaa\n",
      "Processing Record 39 | Bethel\n",
      "Processing Record 40 | Barra do Garças\n",
      "Processing Record 41 | Muroto-misakicho\n",
      "Processing Record 42 | Kāranja\n",
      "Processing Record 43 | Tuktoyaktuk\n",
      "Processing Record 44 | Ternate\n",
      "Processing Record 45 | Mataura\n",
      "Processing Record 46 | East London\n",
      "Processing Record 47 | Upernavik\n",
      "Processing Record 48 | George Town\n",
      "Processing Record 49 | Leningradskiy\n",
      "Processing Record 50 | Northam\n",
      "Processing Record 51 | Saint-Philippe\n",
      "Processing Record 52 | Ribeira Grande\n",
      "Processing Record 53 | Abomsa\n",
      "Processing Record 54 | Rāmhormoz\n",
      "Processing Record 55 | Vaini\n",
      "Processing Record 56 | Bredasdorp\n",
      "Processing Record 57 | Carnarvon\n",
      "Processing Record 58 | Sabang\n",
      "Processing Record 59 | Narsaq\n",
      "Processing Record 60 | São Filipe\n",
      "Processing Record 61 | Yangi Marg`ilon\n",
      "Processing Record 62 | Domoni\n",
      "Processing Record 63 | Belluno\n",
      "Processing Record 64 | Ellisras\n",
      "Processing Record 65 | Ushuaia\n",
      "Processing Record 66 | Hermanus\n",
      "Processing Record 67 | La Crosse\n",
      "Processing Record 68 | Iqaluit\n",
      "Processing Record 69 | Camacha\n",
      "Processing Record 70 | Masumbwe\n",
      "Processing Record 71 | Ginir\n",
      "Processing Record 72 | Codrington\n",
      "Processing Record 73 | Necochea\n",
      "Processing Record 74 | Ketchikan\n",
      "Processing Record 75 | Castro\n",
      "Processing Record 76 | Pevek\n",
      "Processing Record 77 | Kavieng\n",
      "Processing Record 78 | Abu Dhabi\n",
      "Processing Record 79 | Seymchan\n",
      "Processing Record 80 | Dingle\n",
      "Processing Record 81 | Mahébourg\n",
      "Processing Record 82 | Cockburn Town\n",
      "Processing Record 83 | Mambolo\n",
      "Processing Record 84 | Puerto Ayora\n",
      "Processing Record 85 | Santarém\n",
      "Processing Record 86 | Borba\n",
      "Processing Record 87 | Cidreira\n",
      "Processing Record 88 | Touros\n",
      "Processing Record 89 | Sangmélima\n",
      "Processing Record 90 | Batagay\n",
      "Processing Record 91 | Barrow\n",
      "Processing Record 92 | Thompson\n",
      "Processing Record 93 | Georgiyevka\n",
      "Processing Record 94 | Yining\n",
      "Processing Record 95 | Aranos\n",
      "City not found. Skipping...\n",
      "Processing Record 97 | Quelimane\n",
      "Processing Record 98 | Kluczbork\n",
      "Processing Record 99 | Olafsvik\n",
      "Processing Record 100 | Petropavlovsk-Kamchatskiy\n",
      "Processing Record 101 | Olhão\n",
      "Processing Record 102 | Bhīnmāl\n",
      "Processing Record 103 | Bambous Virieux\n",
      "Processing Record 104 | Mossamedes\n",
      "Processing Record 105 | Waiouru\n",
      "Processing Record 106 | Khatanga\n",
      "Processing Record 107 | Port Macquarie\n",
      "Processing Record 108 | Vinh Long\n",
      "Processing Record 109 | Primorsko-Akhtarsk\n",
      "Processing Record 110 | Verkhoyansk\n",
      "Processing Record 111 | Albany\n",
      "Processing Record 112 | Bereznyky\n",
      "Processing Record 113 | Kapoeta\n",
      "Processing Record 114 | Goderich\n",
      "Processing Record 115 | Tuatapere\n",
      "Processing Record 116 | Airai\n",
      "Processing Record 117 | Esperance\n",
      "Processing Record 118 | Tautira\n",
      "Processing Record 119 | San Quintín\n",
      "Processing Record 120 | Adrar\n",
      "City not found. Skipping...\n",
      "Processing Record 122 | Flinders\n",
      "Processing Record 123 | Truckee\n",
      "Processing Record 124 | Karratha\n",
      "Processing Record 125 | Uyskoye\n",
      "Processing Record 126 | Chui\n",
      "Processing Record 127 | Vysokogornyy\n",
      "Processing Record 128 | Yelan’-Koleno\n",
      "Processing Record 129 | Butaritari\n",
      "Processing Record 130 | Aquiraz\n",
      "Processing Record 131 | Port Elizabeth\n",
      "Processing Record 132 | Tonekābon\n",
      "Processing Record 133 | Sitka\n",
      "Processing Record 134 | Tromsø\n",
      "Processing Record 135 | Ponta do Sol\n",
      "Processing Record 136 | La Ronge\n",
      "Processing Record 137 | Kavaratti\n",
      "City not found. Skipping...\n",
      "Processing Record 139 | Santana do Livramento\n",
      "Processing Record 140 | Nabire\n",
      "Processing Record 141 | Talnakh\n",
      "Processing Record 142 | Klaksvík\n",
      "Processing Record 143 | Coyhaique\n",
      "City not found. Skipping...\n",
      "Processing Record 145 | Port Alfred\n",
      "City not found. Skipping...\n",
      "Processing Record 147 | Provideniya\n",
      "Processing Record 148 | Palauig\n",
      "City not found. Skipping...\n",
      "City not found. Skipping...\n",
      "City not found. Skipping...\n",
      "Processing Record 152 | Chapais\n",
      "Processing Record 153 | Kruisfontein\n",
      "Processing Record 154 | Forsytheganj\n",
      "Processing Record 155 | Avarua\n",
      "Processing Record 156 | Santiago del Estero\n",
      "Processing Record 157 | Cabo San Lucas\n",
      "City not found. Skipping...\n",
      "Processing Record 159 | Norman Wells\n",
      "Processing Record 160 | Rosetta\n",
      "City not found. Skipping...\n",
      "Processing Record 162 | Taltal\n",
      "Processing Record 163 | Caravelas\n",
      "Processing Record 164 | Marsh Harbour\n",
      "Processing Record 165 | Pangnirtung\n",
      "Processing Record 166 | Alexander City\n",
      "Processing Record 167 | Cayenne\n",
      "Processing Record 168 | Korla\n",
      "Processing Record 169 | Srednekolymsk\n",
      "Processing Record 170 | Hong Kong\n",
      "Processing Record 171 | Cape Town\n",
      "Processing Record 172 | Rabo de Peixe\n",
      "Processing Record 173 | Maragogi\n",
      "Processing Record 174 | Mamlyutka\n",
      "Processing Record 175 | Ostrovnoy\n",
      "Processing Record 176 | Olot\n",
      "Processing Record 177 | Genhe\n",
      "Processing Record 178 | Faanui\n",
      "Processing Record 179 | Westport\n",
      "Processing Record 180 | Bodden Town\n",
      "City not found. Skipping...\n",
      "Processing Record 182 | Flin Flon\n",
      "Processing Record 183 | Karwar\n",
      "Processing Record 184 | Kyshtovka\n",
      "Processing Record 185 | Alofi\n",
      "Processing Record 186 | Gladstone\n",
      "Processing Record 187 | Severo-Kuril'sk\n",
      "Processing Record 188 | Camaçari\n",
      "Processing Record 189 | Saint-Paul\n",
      "Processing Record 190 | Coquimbo\n",
      "Processing Record 191 | Vao\n",
      "Processing Record 192 | Moerai\n",
      "Processing Record 193 | Poum\n",
      "Processing Record 194 | Saint Anthony\n",
      "Processing Record 195 | Padang\n",
      "Processing Record 196 | Tasiilaq\n",
      "Processing Record 197 | Nikolskoye\n",
      "Processing Record 198 | Moba\n",
      "Processing Record 199 | El Batey\n",
      "Processing Record 200 | Toppenish\n",
      "Processing Record 201 | Dikson\n",
      "Processing Record 202 | Sena Madureira\n",
      "City not found. Skipping...\n",
      "Processing Record 204 | College\n",
      "Processing Record 205 | Saskylakh\n",
      "Processing Record 206 | Turaif\n",
      "City not found. Skipping...\n",
      "Processing Record 208 | Esfarāyen\n",
      "City not found. Skipping...\n",
      "Processing Record 210 | Kamen'-na-Obi\n",
      "Processing Record 211 | Olenegorsk\n",
      "Processing Record 212 | Tura\n",
      "Processing Record 213 | Hobyo\n",
      "Processing Record 214 | Ahipara\n",
      "Processing Record 215 | Sittwe\n",
      "Processing Record 216 | Belmonte\n",
      "Processing Record 217 | Yaan\n",
      "Processing Record 218 | Hilo\n",
      "Processing Record 219 | Taksimo\n",
      "Processing Record 220 | Prince Rupert\n",
      "City not found. Skipping...\n",
      "Processing Record 222 | Kaitangata\n",
      "Processing Record 223 | Santa Cruz de la Sierra\n",
      "Processing Record 224 | Inírida\n",
      "Processing Record 225 | Lyubashivka\n",
      "Processing Record 226 | Rawson\n",
      "Processing Record 227 | Shache\n",
      "Processing Record 228 | Constitución\n",
      "City not found. Skipping...\n",
      "Processing Record 230 | San Cristobal\n",
      "Processing Record 231 | Cherskiy\n",
      "Processing Record 232 | Grindavik\n",
      "Processing Record 233 | Yermakovskoye\n",
      "Processing Record 234 | Ivnya\n",
      "City not found. Skipping...\n",
      "City not found. Skipping...\n",
      "Processing Record 237 | Rocha\n",
      "Processing Record 238 | Pekan\n",
      "Processing Record 239 | Jesup\n",
      "Processing Record 240 | Nanortalik\n",
      "City not found. Skipping...\n",
      "Processing Record 242 | Torbay\n",
      "Processing Record 243 | Kurchum\n",
      "Processing Record 244 | Rundu\n",
      "Processing Record 245 | Saint Paul Harbor\n",
      "Processing Record 246 | Dunedin\n",
      "City not found. Skipping...\n",
      "Processing Record 248 | Ozar\n",
      "Processing Record 249 | Invermere\n",
      "City not found. Skipping...\n",
      "Processing Record 251 | Manadhoo\n",
      "Processing Record 252 | Asău\n",
      "City not found. Skipping...\n",
      "Processing Record 254 | Port Hardy\n",
      "Processing Record 255 | Nome\n",
      "Processing Record 256 | Kiryat Gat\n",
      "Processing Record 257 | Boa Vista\n",
      "Processing Record 258 | Taoudenni\n",
      "Processing Record 259 | Arraial do Cabo\n",
      "Processing Record 260 | Ürümqi\n",
      "Processing Record 261 | Dumas\n",
      "Processing Record 262 | Bengkulu\n",
      "Processing Record 263 | Matara\n",
      "Processing Record 264 | Takoradze\n",
      "Processing Record 265 | Hithadhoo\n",
      "Processing Record 266 | Abhā\n",
      "Processing Record 267 | Zhigansk\n",
      "City not found. Skipping...\n",
      "Processing Record 269 | Zhumadian\n",
      "City not found. Skipping...\n",
      "Processing Record 271 | Kagadi\n",
      "Processing Record 272 | Ayan\n",
      "Processing Record 273 | Nam Som\n",
      "City not found. Skipping...\n",
      "City not found. Skipping...\n",
      "Processing Record 276 | Fonte Boa\n",
      "Processing Record 277 | Lorengau\n",
      "Processing Record 278 | Rehoboth\n",
      "Processing Record 279 | Sungai Raya\n",
      "Processing Record 280 | Labuhan\n",
      "Processing Record 281 | Caxito\n",
      "Processing Record 282 | Riyadh\n",
      "Processing Record 283 | Wukari\n",
      "Processing Record 284 | Buckeye\n",
      "Processing Record 285 | Aleksandrovskoye\n",
      "Processing Record 286 | Maniitsoq\n",
      "Processing Record 287 | Teya\n",
      "Processing Record 288 | Praia da Vitória\n",
      "Processing Record 289 | Pisco\n",
      "City not found. Skipping...\n",
      "Processing Record 291 | Antalaha\n",
      "Processing Record 292 | Hobbs\n",
      "Processing Record 293 | Mount Darwin\n",
      "Processing Record 294 | Seoul\n",
      "Processing Record 295 | Uddevalla\n",
      "Processing Record 296 | Luleå\n",
      "Processing Record 297 | Kaihua\n",
      "Processing Record 298 | Kieta\n",
      "Processing Record 299 | Pinega\n",
      "Processing Record 300 | Usvyaty\n",
      "City not found. Skipping...\n",
      "Processing Record 302 | San Felipe\n",
      "Processing Record 303 | The Valley\n",
      "Processing Record 304 | Progreso\n",
      "Processing Record 305 | Marabba\n",
      "Processing Record 306 | Sonāmura\n",
      "Processing Record 307 | Bilibino\n",
      "Processing Record 308 | Lerwick\n",
      "Processing Record 309 | Bāntva\n",
      "Processing Record 310 | San Patricio\n",
      "Processing Record 311 | Meadow Lake\n",
      "Processing Record 312 | Tiksi\n",
      "Processing Record 313 | Waingapu\n",
      "Processing Record 314 | Mackay\n",
      "Processing Record 315 | Mâncio Lima\n",
      "Processing Record 316 | Tilichiki\n",
      "Processing Record 317 | Salò\n",
      "Processing Record 318 | Majene\n",
      "City not found. Skipping...\n",
      "Processing Record 320 | Lebu\n",
      "Processing Record 321 | Lahad Datu\n",
      "Processing Record 322 | Kírra\n",
      "Processing Record 323 | Kota Tinggi\n",
      "Processing Record 324 | Alice Springs\n",
      "City not found. Skipping...\n",
      "Processing Record 326 | Tornio\n",
      "Processing Record 327 | Blackwater\n",
      "Processing Record 328 | Gänserndorf\n",
      "Processing Record 329 | Ozernovskiy\n",
      "Processing Record 330 | Saldanha\n",
      "Processing Record 331 | Marawi\n",
      "Processing Record 332 | Sovetskaya Gavan'\n",
      "Processing Record 333 | Lenger\n",
      "Processing Record 334 | Port Lincoln\n",
      "Processing Record 335 | Tomatlán\n",
      "Processing Record 336 | Nyrob\n",
      "Processing Record 337 | Tarves\n",
      "Processing Record 338 | Rapid Valley\n",
      "Processing Record 339 | Mount Gambier\n",
      "Processing Record 340 | Payo\n",
      "Processing Record 341 | Tiarei\n",
      "Processing Record 342 | Iberia\n",
      "Processing Record 343 | Vila Velha\n",
      "Processing Record 344 | Leer\n",
      "Processing Record 345 | Meulaboh\n",
      "Processing Record 346 | Brufut\n",
      "Processing Record 347 | Yerbogachën\n",
      "Processing Record 348 | Kununurra\n",
      "Processing Record 349 | Alghero\n",
      "Processing Record 350 | Katsuura\n",
      "Processing Record 351 | Gimli\n",
      "Processing Record 352 | Tual\n",
      "City not found. Skipping...\n",
      "Processing Record 354 | Nelson Bay\n",
      "Processing Record 355 | Buraidah\n",
      "Processing Record 356 | Corralillo\n",
      "Processing Record 357 | Puerto Ayacucho\n",
      "Processing Record 358 | Suntar\n",
      "Processing Record 359 | Nanyamba\n",
      "Processing Record 360 | Portland\n",
      "Processing Record 361 | Forrest City\n",
      "Processing Record 362 | Vikhorevka\n",
      "Processing Record 363 | Kahului\n",
      "City not found. Skipping...\n",
      "Processing Record 365 | Gwadar\n",
      "Processing Record 366 | Wārāseonī\n",
      "Processing Record 367 | Kongwa\n",
      "Processing Record 368 | Cap Malheureux\n",
      "Processing Record 369 | Sumenep\n",
      "Processing Record 370 | Uyuni\n",
      "Processing Record 371 | Bubaque\n",
      "Processing Record 372 | Malayal\n",
      "Processing Record 373 | Dudinka\n",
      "Processing Record 374 | Port-Gentil\n",
      "Processing Record 375 | Sørland\n",
      "Processing Record 376 | Gravdal\n",
      "Processing Record 377 | Sioux Lookout\n",
      "Processing Record 378 | Caluquembe\n",
      "Processing Record 379 | Atuona\n",
      "Processing Record 380 | Kholm\n",
      "Processing Record 381 | Minot\n",
      "Processing Record 382 | Berdigestyakh\n",
      "City not found. Skipping...\n",
      "Processing Record 384 | Mīāndoāb\n",
      "Processing Record 385 | Yar-Sale\n",
      "City not found. Skipping...\n",
      "Processing Record 387 | Fukuechō\n",
      "Processing Record 388 | Rusnė\n",
      "Processing Record 389 | Port Blair\n",
      "Processing Record 390 | Kachug\n",
      "Processing Record 391 | Kirakira\n",
      "Processing Record 392 | Haselünne\n",
      "Processing Record 393 | Paamiut\n",
      "Processing Record 394 | Vostok\n",
      "Processing Record 395 | Lima\n",
      "Processing Record 396 | Innisfail\n",
      "Processing Record 397 | Vestmannaeyjar\n",
      "Processing Record 398 | Sisimiut\n",
      "Processing Record 399 | Dalvik\n",
      "Processing Record 400 | Pozo Colorado\n",
      "Processing Record 401 | Zyryanka\n",
      "Processing Record 402 | Jacareacanga\n",
      "Processing Record 403 | Nisibis\n",
      "Processing Record 404 | Kloulklubed\n",
      "City not found. Skipping...\n",
      "Processing Record 406 | Trairi\n",
      "Processing Record 407 | Kaffrine\n",
      "Processing Record 408 | Agadez\n",
      "Processing Record 409 | Kerman\n",
      "Processing Record 410 | St. George's\n",
      "Processing Record 411 | Severnyy\n",
      "Processing Record 412 | Darnah\n",
      "Processing Record 413 | Ixtapa\n",
      "Processing Record 414 | Smirnykh\n",
      "Processing Record 415 | Helong\n",
      "City not found. Skipping...\n",
      "Processing Record 417 | Pundaguitan\n",
      "Processing Record 418 | Mombetsu\n",
      "Processing Record 419 | Keti Bandar\n",
      "Processing Record 420 | Kaeo\n",
      "Processing Record 421 | Pacific Grove\n",
      "Processing Record 422 | Belyy Yar\n",
      "Processing Record 423 | Zhangye\n",
      "Processing Record 424 | Chetwayi\n",
      "Processing Record 425 | Saint George\n",
      "Processing Record 426 | Half Moon Bay\n",
      "Processing Record 427 | Jega\n",
      "Processing Record 428 | Namie\n",
      "Processing Record 429 | Assiut\n",
      "Processing Record 430 | Zemio\n",
      "Processing Record 431 | Bireun\n",
      "Processing Record 432 | Mount Isa\n",
      "Processing Record 433 | Hofn\n",
      "Processing Record 434 | Sant Julià de Loria\n",
      "City not found. Skipping...\n",
      "Processing Record 436 | Antofagasta\n",
      "Processing Record 437 | Bow Island\n",
      "Processing Record 438 | Maningrida\n",
      "Processing Record 439 | Kutum\n",
      "Processing Record 440 | Salmās\n",
      "Processing Record 441 | Safi\n",
      "Processing Record 442 | Boyolangu\n",
      "Processing Record 443 | Lesogorsk\n",
      "Processing Record 444 | Rajec\n",
      "Processing Record 445 | Kiruna\n",
      "Processing Record 446 | Coffeyville\n",
      "Processing Record 447 | Dubbo\n",
      "Processing Record 448 | Philadelphia\n",
      "Processing Record 449 | Buchanan\n",
      "Processing Record 450 | Fort Smith\n",
      "Processing Record 451 | Vardø\n",
      "City not found. Skipping...\n",
      "Processing Record 453 | Praia\n",
      "Processing Record 454 | Bara\n",
      "City not found. Skipping...\n",
      "Processing Record 456 | Panzhihua\n",
      "Processing Record 457 | Apt\n",
      "Processing Record 458 | Barsovo\n",
      "Processing Record 459 | Ancud\n",
      "Processing Record 460 | Gao\n",
      "Processing Record 461 | Ilulissat\n",
      "Processing Record 462 | Doka\n",
      "Processing Record 463 | Lagoa\n",
      "Processing Record 464 | Merauke\n",
      "Processing Record 465 | Berlevåg\n",
      "Processing Record 466 | Oranjestad\n",
      "Processing Record 467 | Smithers\n",
      "Processing Record 468 | Llangefni\n",
      "Processing Record 469 | Tsimmerbude\n",
      "City not found. Skipping...\n",
      "Processing Record 471 | Acapulco de Juárez\n",
      "Processing Record 472 | Kauhajoki\n",
      "Processing Record 473 | Mugur-Aksy\n",
      "Processing Record 474 | Hasaki\n",
      "City not found. Skipping...\n",
      "Processing Record 476 | Ploemeur\n",
      "Processing Record 477 | Porto Velho\n",
      "Processing Record 478 | Konolfingen\n",
      "Processing Record 479 | San Miguel de Tucumán\n",
      "Processing Record 480 | Aswān\n",
      "Processing Record 481 | Yeppoon\n",
      "Processing Record 482 | Iisalmi\n",
      "Processing Record 483 | Iquique\n",
      "Processing Record 484 | Fare\n",
      "Processing Record 485 | Balaipungut\n",
      "Processing Record 486 | Bend\n",
      "Processing Record 487 | Golden\n",
      "Processing Record 488 | Skjervøy\n",
      "Processing Record 489 | Ossora\n",
      "Processing Record 490 | Polokwane\n",
      "Processing Record 491 | Thornaby\n",
      "Processing Record 492 | Almaznyy\n",
      "Processing Record 493 | Salalah\n",
      "Processing Record 494 | Bayangol\n",
      "Processing Record 495 | Lubao\n",
      "Processing Record 496 | Jiuquan\n",
      "Processing Record 497 | Grafton\n",
      "Processing Record 498 | Husavik\n",
      "Processing Record 499 | Ust'-Kut\n",
      "Processing Record 500 | Sing Buri\n",
      "Processing Record 501 | Samfya\n",
      "Processing Record 502 | São João da Barra\n",
      "Processing Record 503 | India\n",
      "Processing Record 504 | San Carlos\n",
      "City not found. Skipping...\n",
      "Processing Record 506 | Alta Floresta\n",
      "Processing Record 507 | Beipiao\n",
      "Processing Record 508 | Zaria\n",
      "Processing Record 509 | Sept-Îles\n",
      "Processing Record 510 | Karaton\n",
      "Processing Record 511 | West Point\n",
      "Processing Record 512 | Mikkeli\n",
      "Processing Record 513 | Departamento de Maldonado\n",
      "Processing Record 514 | Miraflores\n",
      "Processing Record 515 | Marand\n",
      "Processing Record 516 | Oranjemund\n",
      "Processing Record 517 | Ekibastuz\n",
      "Processing Record 518 | Belfast\n",
      "Processing Record 519 | Bela Vista\n",
      "Processing Record 520 | Mareeba\n",
      "Processing Record 521 | Lakes Entrance\n",
      "Processing Record 522 | Kitgum\n",
      "Processing Record 523 | Lüderitz\n",
      "Processing Record 524 | Varhaug\n",
      "Processing Record 525 | Thunder Bay\n",
      "Processing Record 526 | Lovozero\n",
      "Processing Record 527 | Mindelo\n",
      "Processing Record 528 | Deniliquin\n",
      "Processing Record 529 | Belaya Kalitva\n",
      "Processing Record 530 | Sault Ste. Marie\n",
      "City not found. Skipping...\n",
      "Processing Record 532 | Kamenka\n",
      "Processing Record 533 | La Asuncion\n",
      "Processing Record 534 | Tarauacá\n",
      "Processing Record 535 | Payakumbuh\n",
      "City not found. Skipping...\n",
      "Processing Record 537 | Kropotkin\n",
      "Processing Record 538 | Opuwo\n",
      "Processing Record 539 | Litovko\n",
      "Processing Record 540 | Tadine\n",
      "Processing Record 541 | Manggar\n",
      "Processing Record 542 | Fortuna\n",
      "Processing Record 543 | Arbazh\n",
      "Processing Record 544 | Koungou\n",
      "Processing Record 545 | Sistranda\n",
      "Processing Record 546 | Bandarbeyla\n",
      "Processing Record 547 | Kalevala\n",
      "Processing Record 548 | Quatre Cocos\n",
      "Processing Record 549 | Arlit\n",
      "Processing Record 550 | Davila\n",
      "Processing Record 551 | Kjøpsvik\n",
      "Processing Record 552 | Camargo\n",
      "Processing Record 553 | Rosario\n",
      "Processing Record 554 | Barra Patuca\n",
      "Processing Record 555 | Broome\n",
      "Processing Record 556 | Mwense\n",
      "Processing Record 557 | Mardin\n",
      "Processing Record 558 | Carauari\n",
      "Processing Record 559 | Saint-Pierre\n",
      "Processing Record 560 | Okha\n",
      "Processing Record 561 | Hay River\n",
      "Processing Record 562 | Ulladulla\n",
      "Processing Record 563 | Zanjān\n",
      "Processing Record 564 | Tateyama\n",
      "Processing Record 565 | Evensk\n",
      "Processing Record 566 | Yong’an\n",
      "Processing Record 567 | Bandundu Province\n",
      "Processing Record 568 | Ondjiva\n",
      "Processing Record 569 | Tashara\n",
      "Processing Record 570 | West Bay\n",
      "Processing Record 571 | Ambilobe\n",
      "Processing Record 572 | Russell\n",
      "Processing Record 573 | Warangal\n",
      "Processing Record 574 | Fuerte Olimpo\n",
      "Processing Record 575 | Suez\n",
      "Processing Record 576 | Waitati\n",
      "Processing Record 577 | Ambulu\n",
      "Processing Record 578 | Singkang\n",
      "Processing Record 579 | Yeola\n",
      "City not found. Skipping...\n",
      "City not found. Skipping...\n",
      "City not found. Skipping...\n",
      "Processing Record 583 | Byron Bay\n",
      "Processing Record 584 | Bārān\n",
      "Processing Record 585 | Arrondissement de Mende\n",
      "Processing Record 586 | Santa Isabel Rio Negro\n",
      "Processing Record 587 | Kumluca\n",
      "Processing Record 588 | Houma\n",
      "Processing Record 589 | Kindersley\n",
      "City not found. Skipping...\n",
      "Processing Record 591 | Sola\n",
      "Processing Record 592 | Gēdo\n",
      "City not found. Skipping...\n",
      "Processing Record 594 | Boffa\n",
      "City not found. Skipping...\n",
      "Processing Record 596 | Guerrero Negro\n",
      "Processing Record 597 | Ladovskaya Balka\n",
      "Processing Record 598 | Cootamundra\n",
      "City not found. Skipping...\n",
      "Processing Record 600 | Elbistan\n",
      "Processing Record 601 | Rurrenabaque\n",
      "Processing Record 602 | Praia\n",
      "Processing Record 603 | Sovetskiy\n",
      "City not found. Skipping...\n",
      "Processing Record 605 | Richards Bay\n",
      "Processing Record 606 | Coffs Harbour\n",
      "Processing Record 607 | Warrenton\n",
      "Processing Record 608 | Mango\n",
      "Processing Record 609 | Inyonga\n",
      "Processing Record 610 | Shingū\n",
      "Processing Record 611 | Honningsvåg\n",
      "Processing Record 612 | George Town\n",
      "Processing Record 613 | Beloha\n",
      "Processing Record 614 | Padre Paraíso\n",
      "City not found. Skipping...\n"
     ]
    }
   ],
   "source": [
    "# set up lists to hold reponse info\n",
    "city_names = []\n",
    "longitudes = []\n",
    "latitudes = []\n",
    "max_temps = []\n",
    "humidities = []\n",
    "cloudiness1 = []\n",
    "wind_speeds = []\n",
    "countries = []\n",
    "dates = []\n",
    "#city_ids = []\n",
    "count = 0\n",
    "\n",
    "print(f\"Beginning Data Retrieval: \\n\")\n",
    "print(f\"------------------------\\n\" )\n",
    "# Loop through the list of cities and perform a request for data on each\n",
    "\n",
    "for city in cities:\n",
    "    city_url = query_url + \"&q=\" + city + \"&units=imperial\"\n",
    "    count += 1 \n",
    "# Get weather data\n",
    "    weather_response = requests.get(city_url)\n",
    "    weather_json = weather_response.json()\n",
    "\n",
    "# Try to grab the city name and id if they are available in the weather API\n",
    "    try:\n",
    "        \n",
    "        city_name = weather_json['name']\n",
    "        longitude = weather_json['coord']['lon']\n",
    "        latitude = weather_json['coord']['lat']\n",
    "        max_temp = weather_json['main']['temp_max']\n",
    "        humidity = weather_json['main']['humidity']\n",
    "        cloudiness = weather_json['clouds']['all']\n",
    "        wind_speed = weather_json['wind']['speed']\n",
    "        country = weather_json['sys']['country']\n",
    "        date = weather_json['dt']\n",
    "        #city_id = weather_json['id']\n",
    "        \n",
    "        city_names.append(city_name)\n",
    "        longitudes.append(longitude)\n",
    "        latitudes.append(latitude)\n",
    "        max_temps.append(max_temp)\n",
    "        humidities.append(humidity)\n",
    "        cloudiness1.append(cloudiness)\n",
    "        wind_speeds.append(wind_speed)\n",
    "        countries.append(country)\n",
    "        dates.append(date)\n",
    "        #city_ids.append(city_id)\n",
    "\n",
    "        print(f\"Processing Record {count} | {city_name}\")\n",
    "        \n",
    "# Handle exceptions for a city that is not available in the weather API\n",
    "    except:\n",
    "        # Append null values\n",
    "        print(f\"City not found. Skipping...\")\n",
    "        pass\n",
    " "
   ]
  },
  {
   "cell_type": "markdown",
   "metadata": {},
   "source": [
    "### Convert Raw Data to DataFrame\n",
    "* Export the city data into a .csv.\n",
    "* Display the DataFrame"
   ]
  },
  {
   "cell_type": "code",
   "execution_count": 14,
   "metadata": {},
   "outputs": [
    {
     "data": {
      "text/html": [
       "<div>\n",
       "<style scoped>\n",
       "    .dataframe tbody tr th:only-of-type {\n",
       "        vertical-align: middle;\n",
       "    }\n",
       "\n",
       "    .dataframe tbody tr th {\n",
       "        vertical-align: top;\n",
       "    }\n",
       "\n",
       "    .dataframe thead th {\n",
       "        text-align: right;\n",
       "    }\n",
       "</style>\n",
       "<table border=\"1\" class=\"dataframe\">\n",
       "  <thead>\n",
       "    <tr style=\"text-align: right;\">\n",
       "      <th></th>\n",
       "      <th>City</th>\n",
       "      <th>Latitude</th>\n",
       "      <th>Longitude</th>\n",
       "      <th>Max Temp</th>\n",
       "      <th>Humidity</th>\n",
       "      <th>Cloudiness</th>\n",
       "      <th>Wind Speed</th>\n",
       "      <th>Country</th>\n",
       "      <th>Date</th>\n",
       "    </tr>\n",
       "  </thead>\n",
       "  <tbody>\n",
       "    <tr>\n",
       "      <th>0</th>\n",
       "      <td>Thinadhoo</td>\n",
       "      <td>0.53</td>\n",
       "      <td>72.93</td>\n",
       "      <td>84.97</td>\n",
       "      <td>68</td>\n",
       "      <td>4</td>\n",
       "      <td>6.15</td>\n",
       "      <td>MV</td>\n",
       "      <td>1594695892</td>\n",
       "    </tr>\n",
       "    <tr>\n",
       "      <th>1</th>\n",
       "      <td>Xam Nua</td>\n",
       "      <td>20.42</td>\n",
       "      <td>104.04</td>\n",
       "      <td>86.86</td>\n",
       "      <td>45</td>\n",
       "      <td>1</td>\n",
       "      <td>1.03</td>\n",
       "      <td>LA</td>\n",
       "      <td>1594695918</td>\n",
       "    </tr>\n",
       "    <tr>\n",
       "      <th>2</th>\n",
       "      <td>Qaanaaq</td>\n",
       "      <td>77.48</td>\n",
       "      <td>-69.36</td>\n",
       "      <td>42.33</td>\n",
       "      <td>70</td>\n",
       "      <td>1</td>\n",
       "      <td>3.60</td>\n",
       "      <td>GL</td>\n",
       "      <td>1594695918</td>\n",
       "    </tr>\n",
       "    <tr>\n",
       "      <th>3</th>\n",
       "      <td>Spring Hill</td>\n",
       "      <td>28.48</td>\n",
       "      <td>-82.53</td>\n",
       "      <td>82.00</td>\n",
       "      <td>88</td>\n",
       "      <td>1</td>\n",
       "      <td>7.61</td>\n",
       "      <td>US</td>\n",
       "      <td>1594695919</td>\n",
       "    </tr>\n",
       "    <tr>\n",
       "      <th>4</th>\n",
       "      <td>Puqi</td>\n",
       "      <td>29.72</td>\n",
       "      <td>113.88</td>\n",
       "      <td>85.26</td>\n",
       "      <td>73</td>\n",
       "      <td>100</td>\n",
       "      <td>4.27</td>\n",
       "      <td>CN</td>\n",
       "      <td>1594695919</td>\n",
       "    </tr>\n",
       "    <tr>\n",
       "      <th>...</th>\n",
       "      <td>...</td>\n",
       "      <td>...</td>\n",
       "      <td>...</td>\n",
       "      <td>...</td>\n",
       "      <td>...</td>\n",
       "      <td>...</td>\n",
       "      <td>...</td>\n",
       "      <td>...</td>\n",
       "      <td>...</td>\n",
       "    </tr>\n",
       "    <tr>\n",
       "      <th>552</th>\n",
       "      <td>Shingū</td>\n",
       "      <td>33.73</td>\n",
       "      <td>135.98</td>\n",
       "      <td>77.00</td>\n",
       "      <td>100</td>\n",
       "      <td>75</td>\n",
       "      <td>10.29</td>\n",
       "      <td>JP</td>\n",
       "      <td>1594696057</td>\n",
       "    </tr>\n",
       "    <tr>\n",
       "      <th>553</th>\n",
       "      <td>Honningsvåg</td>\n",
       "      <td>70.98</td>\n",
       "      <td>25.97</td>\n",
       "      <td>46.40</td>\n",
       "      <td>75</td>\n",
       "      <td>75</td>\n",
       "      <td>8.05</td>\n",
       "      <td>NO</td>\n",
       "      <td>1594695763</td>\n",
       "    </tr>\n",
       "    <tr>\n",
       "      <th>554</th>\n",
       "      <td>George Town</td>\n",
       "      <td>5.41</td>\n",
       "      <td>100.34</td>\n",
       "      <td>84.20</td>\n",
       "      <td>83</td>\n",
       "      <td>40</td>\n",
       "      <td>4.70</td>\n",
       "      <td>MY</td>\n",
       "      <td>1594695805</td>\n",
       "    </tr>\n",
       "    <tr>\n",
       "      <th>555</th>\n",
       "      <td>Beloha</td>\n",
       "      <td>-25.17</td>\n",
       "      <td>45.05</td>\n",
       "      <td>57.47</td>\n",
       "      <td>93</td>\n",
       "      <td>20</td>\n",
       "      <td>2.64</td>\n",
       "      <td>MG</td>\n",
       "      <td>1594695761</td>\n",
       "    </tr>\n",
       "    <tr>\n",
       "      <th>556</th>\n",
       "      <td>Padre Paraíso</td>\n",
       "      <td>-17.07</td>\n",
       "      <td>-41.48</td>\n",
       "      <td>60.78</td>\n",
       "      <td>94</td>\n",
       "      <td>16</td>\n",
       "      <td>1.03</td>\n",
       "      <td>BR</td>\n",
       "      <td>1594696058</td>\n",
       "    </tr>\n",
       "  </tbody>\n",
       "</table>\n",
       "<p>557 rows × 9 columns</p>\n",
       "</div>"
      ],
      "text/plain": [
       "              City  Latitude  Longitude  Max Temp  Humidity  Cloudiness  \\\n",
       "0        Thinadhoo      0.53      72.93     84.97        68           4   \n",
       "1          Xam Nua     20.42     104.04     86.86        45           1   \n",
       "2          Qaanaaq     77.48     -69.36     42.33        70           1   \n",
       "3      Spring Hill     28.48     -82.53     82.00        88           1   \n",
       "4             Puqi     29.72     113.88     85.26        73         100   \n",
       "..             ...       ...        ...       ...       ...         ...   \n",
       "552         Shingū     33.73     135.98     77.00       100          75   \n",
       "553    Honningsvåg     70.98      25.97     46.40        75          75   \n",
       "554    George Town      5.41     100.34     84.20        83          40   \n",
       "555         Beloha    -25.17      45.05     57.47        93          20   \n",
       "556  Padre Paraíso    -17.07     -41.48     60.78        94          16   \n",
       "\n",
       "     Wind Speed Country        Date  \n",
       "0          6.15      MV  1594695892  \n",
       "1          1.03      LA  1594695918  \n",
       "2          3.60      GL  1594695918  \n",
       "3          7.61      US  1594695919  \n",
       "4          4.27      CN  1594695919  \n",
       "..          ...     ...         ...  \n",
       "552       10.29      JP  1594696057  \n",
       "553        8.05      NO  1594695763  \n",
       "554        4.70      MY  1594695805  \n",
       "555        2.64      MG  1594695761  \n",
       "556        1.03      BR  1594696058  \n",
       "\n",
       "[557 rows x 9 columns]"
      ]
     },
     "execution_count": 14,
     "metadata": {},
     "output_type": "execute_result"
    }
   ],
   "source": [
    "# create a data frame \n",
    "weather_dict = {\n",
    "    \"City\": city_names,\n",
    "    \"Latitude\": latitudes,\n",
    "    \"Longitude\": longitudes,\n",
    "    \"Max Temp\": max_temps,\n",
    "    \"Humidity\": humidities,\n",
    "    \"Cloudiness\": cloudiness1,\n",
    "    \"Wind Speed\": wind_speeds,\n",
    "    \"Country\": countries,\n",
    "    \"Date\": dates\n",
    "}\n",
    "weather_data = pd.DataFrame(weather_dict)\n",
    "weather_data"
   ]
  },
  {
   "cell_type": "code",
   "execution_count": 15,
   "metadata": {},
   "outputs": [],
   "source": [
    "# export to csv\n",
    "weather_data.to_csv (r'C:\\Users\\cdfen\\Documents\\Python-API-Challenge\\Weatherpy\\weatherdf.csv', index = False, header=True)"
   ]
  },
  {
   "cell_type": "markdown",
   "metadata": {},
   "source": [
    "## Inspect the data and remove the cities where the humidity > 100%.\n"
   ]
  },
  {
   "cell_type": "code",
   "execution_count": 17,
   "metadata": {},
   "outputs": [
    {
     "data": {
      "text/html": [
       "<div>\n",
       "<style scoped>\n",
       "    .dataframe tbody tr th:only-of-type {\n",
       "        vertical-align: middle;\n",
       "    }\n",
       "\n",
       "    .dataframe tbody tr th {\n",
       "        vertical-align: top;\n",
       "    }\n",
       "\n",
       "    .dataframe thead th {\n",
       "        text-align: right;\n",
       "    }\n",
       "</style>\n",
       "<table border=\"1\" class=\"dataframe\">\n",
       "  <thead>\n",
       "    <tr style=\"text-align: right;\">\n",
       "      <th></th>\n",
       "      <th>City</th>\n",
       "      <th>Latitude</th>\n",
       "      <th>Longitude</th>\n",
       "      <th>Max Temp</th>\n",
       "      <th>Humidity</th>\n",
       "      <th>Cloudiness</th>\n",
       "      <th>Wind Speed</th>\n",
       "      <th>Country</th>\n",
       "      <th>Date</th>\n",
       "    </tr>\n",
       "  </thead>\n",
       "  <tbody>\n",
       "  </tbody>\n",
       "</table>\n",
       "</div>"
      ],
      "text/plain": [
       "Empty DataFrame\n",
       "Columns: [City, Latitude, Longitude, Max Temp, Humidity, Cloudiness, Wind Speed, Country, Date]\n",
       "Index: []"
      ]
     },
     "execution_count": 17,
     "metadata": {},
     "output_type": "execute_result"
    }
   ],
   "source": [
    "# create a dataframe to see if there are any humidity values over 100\n",
    "humidity_100plus = weather_data.loc[weather_data[\"Humidity\"] > 100]\n",
    "humidity_100plus"
   ]
  },
  {
   "cell_type": "code",
   "execution_count": 18,
   "metadata": {},
   "outputs": [],
   "source": [
    "# No values of humidity are over 100\n",
    "# no need to create a new 'clean' dataframe, can utilize weather_data above and already exported csv file"
   ]
  },
  {
   "cell_type": "markdown",
   "metadata": {},
   "source": [
    "## Plotting the Data\n",
    "* Use proper labeling of the plots using plot titles (including date of analysis) and axes labels.\n",
    "* Save the plotted figures as .pngs."
   ]
  },
  {
   "cell_type": "markdown",
   "metadata": {},
   "source": [
    "## Temperature vs. Latitude Plot"
   ]
  },
  {
   "cell_type": "code",
   "execution_count": 19,
   "metadata": {
    "scrolled": true
   },
   "outputs": [
    {
     "data": {
      "image/png": "[encoded data removed]",
      "text/plain": [
       "<Figure size 432x288 with 1 Axes>"
      ]
     },
     "metadata": {
      "needs_background": "light"
     },
     "output_type": "display_data"
    },
    {
     "data": {
      "text/plain": [
       "<Figure size 432x288 with 0 Axes>"
      ]
     },
     "metadata": {},
     "output_type": "display_data"
    }
   ],
   "source": [
    "# Create a Scatter Plot for temperature vs latitude \n",
    "x_values = weather_data['Latitude']\n",
    "y_values = weather_data['Max Temp']\n",
    "plt.scatter(x_values,y_values, color='magenta')\n",
    "plt.xlabel('Latitude')\n",
    "plt.ylabel('Max Temperature (F)')\n",
    "plt.title('Max Temperature vs City Latitude')\n",
    "plt.show()\n",
    "plt.savefig('temp_vs_lat')"
   ]
  },
  {
   "cell_type": "markdown",
   "metadata": {},
   "source": [
    "Analysis:\n",
    "\n"
   ]
  },
  {
   "cell_type": "markdown",
   "metadata": {},
   "source": [
    "## Humidity vs. Latitude Plot"
   ]
  },
  {
   "cell_type": "code",
   "execution_count": 20,
   "metadata": {},
   "outputs": [
    {
     "data": {
      "image/png": "[encoded data removed]",
      "text/plain": [
       "<Figure size 432x288 with 1 Axes>"
      ]
     },
     "metadata": {
      "needs_background": "light"
     },
     "output_type": "display_data"
    },
    {
     "data": {
      "text/plain": [
       "<Figure size 432x288 with 0 Axes>"
      ]
     },
     "metadata": {},
     "output_type": "display_data"
    }
   ],
   "source": [
    "# Create a Scatter Plot for humidity vs latitude\n",
    "x_values = weather_data['Latitude']\n",
    "y_values = weather_data['Humidity']\n",
    "plt.scatter(x_values,y_values, color='g')\n",
    "plt.xlabel('Latitude')\n",
    "plt.ylabel('Humidity (%)')\n",
    "plt.title('Humidity vs City Latitude')\n",
    "plt.show()\n",
    "plt.savefig('humidity_vs_lat')"
   ]
  },
  {
   "cell_type": "markdown",
   "metadata": {},
   "source": [
    "Analysis:\n",
    "\n"
   ]
  },
  {
   "cell_type": "markdown",
   "metadata": {},
   "source": [
    "## Cloudiness vs. Latitude Plot"
   ]
  },
  {
   "cell_type": "code",
   "execution_count": 21,
   "metadata": {},
   "outputs": [
    {
     "data": {
      "image/png": "[encoded data removed]",
      "text/plain": [
       "<Figure size 432x288 with 1 Axes>"
      ]
     },
     "metadata": {
      "needs_background": "light"
     },
     "output_type": "display_data"
    },
    {
     "data": {
      "text/plain": [
       "<Figure size 432x288 with 0 Axes>"
      ]
     },
     "metadata": {},
     "output_type": "display_data"
    }
   ],
   "source": [
    "# Create a Scatter Plot for humidity vs latitude\n",
    "x_values = weather_data['Latitude']\n",
    "y_values = weather_data['Cloudiness']\n",
    "plt.scatter(x_values,y_values, color='b')\n",
    "plt.xlabel('Latitude')\n",
    "plt.ylabel('Cloudiness (%)')\n",
    "plt.title('Cloudiness vs City Latitude')\n",
    "plt.show()\n",
    "plt.savefig('cloudiness_vs_lat')"
   ]
  },
  {
   "cell_type": "markdown",
   "metadata": {},
   "source": [
    "Analysis:\n"
   ]
  },
  {
   "cell_type": "markdown",
   "metadata": {},
   "source": [
    "## Wind Speed vs. Latitude Plot"
   ]
  },
  {
   "cell_type": "code",
   "execution_count": 22,
   "metadata": {},
   "outputs": [
    {
     "data": {
      "image/png": "[encoded data removed]",
      "text/plain": [
       "<Figure size 432x288 with 1 Axes>"
      ]
     },
     "metadata": {
      "needs_background": "light"
     },
     "output_type": "display_data"
    },
    {
     "data": {
      "text/plain": [
       "<Figure size 432x288 with 0 Axes>"
      ]
     },
     "metadata": {},
     "output_type": "display_data"
    }
   ],
   "source": [
    "# Create a Scatter Plot for humidity vs latitude\n",
    "x_values = weather_data['Latitude']\n",
    "y_values = weather_data['Wind Speed']\n",
    "plt.scatter(x_values,y_values, color='purple')\n",
    "plt.xlabel('Latitude')\n",
    "plt.ylabel('Wind Speed (mph)')\n",
    "plt.title('Wind Speed vs City Latitude')\n",
    "plt.show()\n",
    "plt.savefig('wind_speed_vs_lat')"
   ]
  },
  {
   "cell_type": "markdown",
   "metadata": {},
   "source": [
    "Analysis:\n"
   ]
  },
  {
   "cell_type": "markdown",
   "metadata": {},
   "source": [
    "## Linear Regression"
   ]
  },
  {
   "cell_type": "code",
   "execution_count": 23,
   "metadata": {},
   "outputs": [],
   "source": [
    "# OPTIONAL: Create a function to create Linear Regression plots"
   ]
  },
  {
   "cell_type": "code",
   "execution_count": 24,
   "metadata": {},
   "outputs": [],
   "source": [
    "# Create Northern and Southern Hemisphere DataFrames\n",
    "N_hem = weather_data.loc[weather_data[\"Latitude\"] > 0]\n",
    "S_hem = weather_data.loc[weather_data[\"Latitude\"] < 0]\n"
   ]
  },
  {
   "cell_type": "markdown",
   "metadata": {},
   "source": [
    "####  Northern Hemisphere - Max Temp vs. Latitude Linear Regression"
   ]
  },
  {
   "cell_type": "code",
   "execution_count": 25,
   "metadata": {},
   "outputs": [
    {
     "name": "stdout",
     "output_type": "stream",
     "text": [
      "0      87.018831\n",
      "1      78.208149\n",
      "2      52.932255\n",
      "3      74.637807\n",
      "4      74.088524\n",
      "         ...    \n",
      "546    60.072939\n",
      "550    74.859292\n",
      "552    72.312212\n",
      "553    55.811563\n",
      "554    84.857135\n",
      "Name: Latitude, Length: 383, dtype: float64\n"
     ]
    }
   ],
   "source": [
    "#NEED TO CHANGE TO N and S Hemispheres\n",
    "x_val = N_hem['Latitude']\n",
    "y_val = N_hem['Max Temp']\n",
    "\n",
    "# Perform a linear regression on temperature vs. latitude\n",
    "(slope, intercept, rvalue, pvalue, stderr) = linregress(x_val, y_val)\n",
    "\n",
    "# Get regression values\n",
    "regress_values = x_val * slope + intercept\n",
    "print(regress_values)"
   ]
  },
  {
   "cell_type": "code",
   "execution_count": 26,
   "metadata": {},
   "outputs": [
    {
     "name": "stdout",
     "output_type": "stream",
     "text": [
      "y = -0.44x +87.25\n"
     ]
    }
   ],
   "source": [
    "# Create line equation string\n",
    "line_eq = \"y = \" + str(round(slope,2)) + \"x +\" + str(round(intercept,2))\n",
    "print(line_eq)"
   ]
  },
  {
   "cell_type": "code",
   "execution_count": 27,
   "metadata": {},
   "outputs": [
    {
     "name": "stdout",
     "output_type": "stream",
     "text": [
      "The r-squared is: 0.45506897894028436\n"
     ]
    },
    {
     "data": {
      "image/png": "[encoded data removed]",
      "text/plain": [
       "<Figure size 432x288 with 1 Axes>"
      ]
     },
     "metadata": {
      "needs_background": "light"
     },
     "output_type": "display_data"
    }
   ],
   "source": [
    "# Create Plot\n",
    "plt.scatter(x_val,y_val, color = 'magenta')\n",
    "plt.plot(x_val,regress_values,\"r-\", color = 'b', label = \"y = \" + str(round(slope,2)) + \"x +\" + str(round(intercept,2)))\n",
    "\n",
    "# Label plot and annotate the line equation\n",
    "plt.xlabel('Latitude')\n",
    "plt.ylabel('Temperature (F)')\n",
    "plt.legend(loc=\"upper left\")\n",
    "\n",
    "# Print r square value\n",
    "print(f\"The r-squared is: {rvalue**2}\")\n",
    "\n",
    "# Show plot\n",
    "plt.show()"
   ]
  },
  {
   "cell_type": "code",
   "execution_count": null,
   "metadata": {},
   "outputs": [],
   "source": []
  },
  {
   "cell_type": "code",
   "execution_count": null,
   "metadata": {},
   "outputs": [],
   "source": []
  },
  {
   "cell_type": "markdown",
   "metadata": {},
   "source": [
    "####  Southern Hemisphere - Max Temp vs. Latitude Linear Regression"
   ]
  },
  {
   "cell_type": "code",
   "execution_count": null,
   "metadata": {},
   "outputs": [],
   "source": []
  },
  {
   "cell_type": "markdown",
   "metadata": {},
   "source": [
    "####  Northern Hemisphere - Humidity (%) vs. Latitude Linear Regression"
   ]
  },
  {
   "cell_type": "code",
   "execution_count": null,
   "metadata": {},
   "outputs": [],
   "source": []
  },
  {
   "cell_type": "markdown",
   "metadata": {},
   "source": [
    "####  Southern Hemisphere - Humidity (%) vs. Latitude Linear Regression"
   ]
  },
  {
   "cell_type": "code",
   "execution_count": null,
   "metadata": {},
   "outputs": [],
   "source": []
  },
  {
   "cell_type": "markdown",
   "metadata": {},
   "source": [
    "####  Northern Hemisphere - Cloudiness (%) vs. Latitude Linear Regression"
   ]
  },
  {
   "cell_type": "code",
   "execution_count": null,
   "metadata": {},
   "outputs": [],
   "source": []
  },
  {
   "cell_type": "markdown",
   "metadata": {},
   "source": [
    "####  Southern Hemisphere - Cloudiness (%) vs. Latitude Linear Regression"
   ]
  },
  {
   "cell_type": "code",
   "execution_count": null,
   "metadata": {},
   "outputs": [],
   "source": []
  },
  {
   "cell_type": "markdown",
   "metadata": {},
   "source": [
    "####  Northern Hemisphere - Wind Speed (mph) vs. Latitude Linear Regression"
   ]
  },
  {
   "cell_type": "code",
   "execution_count": null,
   "metadata": {},
   "outputs": [],
   "source": []
  },
  {
   "cell_type": "markdown",
   "metadata": {},
   "source": [
    "####  Southern Hemisphere - Wind Speed (mph) vs. Latitude Linear Regression"
   ]
  },
  {
   "cell_type": "code",
   "execution_count": null,
   "metadata": {},
   "outputs": [],
   "source": []
  },
  {
   "cell_type": "code",
   "execution_count": null,
   "metadata": {},
   "outputs": [],
   "source": []
  },
  {
   "cell_type": "code",
   "execution_count": null,
   "metadata": {},
   "outputs": [],
   "source": []
  }
 ],
 "metadata": {
  "anaconda-cloud": {},
  "kernel_info": {
   "name": "python3"
  },
  "kernelspec": {
   "display_name": "Python 3",
   "language": "python",
   "name": "python3"
  },
  "language_info": {
   "codemirror_mode": {
    "name": "ipython",
    "version": 3
   },
   "file_extension": ".py",
   "mimetype": "text/x-python",
   "name": "python",
   "nbconvert_exporter": "python",
   "pygments_lexer": "ipython3",
   "version": "3.7.6"
  },
  "latex_envs": {
   "LaTeX_envs_menu_present": true,
   "autoclose": false,
   "autocomplete": true,
   "bibliofile": "biblio.bib",
   "cite_by": "apalike",
   "current_citInitial": 1,
   "eqLabelWithNumbers": true,
   "eqNumInitial": 1,
   "hotkeys": {
    "equation": "Ctrl-E",
    "itemize": "Ctrl-I"
   },
   "labels_anchors": false,
   "latex_user_defs": false,
   "report_style_numbering": false,
   "user_envs_cfg": false
  },
  "nteract": {
   "version": "0.12.3"
  }
 },
 "nbformat": 4,
 "nbformat_minor": 4
}
